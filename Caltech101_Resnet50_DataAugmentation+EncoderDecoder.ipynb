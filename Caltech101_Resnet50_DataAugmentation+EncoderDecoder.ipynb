{
  "nbformat": 4,
  "nbformat_minor": 0,
  "metadata": {
    "colab": {
      "name": "Caltech101_Resnet50_DataAugmentation+EncoderDecoder.ipynb",
      "provenance": [],
      "collapsed_sections": [],
      "machine_shape": "hm",
      "include_colab_link": true
    },
    "kernelspec": {
      "name": "python3",
      "display_name": "Python 3"
    },
    "accelerator": "GPU"
  },
  "cells": [
    {
      "cell_type": "markdown",
      "metadata": {
        "id": "view-in-github",
        "colab_type": "text"
      },
      "source": [
        "<a href=\"https://colab.research.google.com/github/dhyan1999/DL_ML/blob/master/Caltech101_Resnet50_DataAugmentation%2BEncoderDecoder.ipynb\" target=\"_parent\"><img src=\"https://colab.research.google.com/assets/colab-badge.svg\" alt=\"Open In Colab\"/></a>"
      ]
    },
    {
      "cell_type": "code",
      "metadata": {
        "colab": {
          "base_uri": "https://localhost:8080/"
        },
        "id": "PTWqJIKLHG3g",
        "outputId": "36a356df-9325-4b55-c975-4bd91ed9317d"
      },
      "source": [
        "from google.colab import drive\n",
        "drive.mount('/content/drive')"
      ],
      "execution_count": null,
      "outputs": [
        {
          "output_type": "stream",
          "text": [
            "Mounted at /content/drive\n"
          ],
          "name": "stdout"
        }
      ]
    },
    {
      "cell_type": "code",
      "metadata": {
        "colab": {
          "base_uri": "https://localhost:8080/"
        },
        "id": "zvofUjkZHGnu",
        "outputId": "cf9ed884-6424-4995-9081-ee61841132e8"
      },
      "source": [
        "!pip install patool pyunpack\n",
        "import pyunpack\n",
        "pyunpack.Archive(\"/content/drive/MyDrive/images/Dataset.rar\").extractall(\"/content/dataset\")"
      ],
      "execution_count": null,
      "outputs": [
        {
          "output_type": "stream",
          "text": [
            "Collecting patool\n",
            "\u001b[?25l  Downloading https://files.pythonhosted.org/packages/43/94/52243ddff508780dd2d8110964320ab4851134a55ab102285b46e740f76a/patool-1.12-py2.py3-none-any.whl (77kB)\n",
            "\r\u001b[K     |████▎                           | 10kB 19.6MB/s eta 0:00:01\r\u001b[K     |████████▌                       | 20kB 16.1MB/s eta 0:00:01\r\u001b[K     |████████████▊                   | 30kB 9.4MB/s eta 0:00:01\r\u001b[K     |█████████████████               | 40kB 7.7MB/s eta 0:00:01\r\u001b[K     |█████████████████████▏          | 51kB 7.5MB/s eta 0:00:01\r\u001b[K     |█████████████████████████▍      | 61kB 8.1MB/s eta 0:00:01\r\u001b[K     |█████████████████████████████▋  | 71kB 8.4MB/s eta 0:00:01\r\u001b[K     |████████████████████████████████| 81kB 5.5MB/s \n",
            "\u001b[?25hCollecting pyunpack\n",
            "  Downloading https://files.pythonhosted.org/packages/83/29/020436b1d8e96e5f26fa282b9c3c13a3b456a36b9ea2edc87c5fed008369/pyunpack-0.2.2-py2.py3-none-any.whl\n",
            "Collecting easyprocess\n",
            "  Downloading https://files.pythonhosted.org/packages/48/3c/75573613641c90c6d094059ac28adb748560d99bd27ee6f80cce398f404e/EasyProcess-0.3-py2.py3-none-any.whl\n",
            "Collecting entrypoint2\n",
            "  Downloading https://files.pythonhosted.org/packages/8a/b0/8ef4b1d8be02448d164c52466530059d7f57218655d21309a0c4236d7454/entrypoint2-0.2.4-py3-none-any.whl\n",
            "Installing collected packages: patool, easyprocess, entrypoint2, pyunpack\n",
            "Successfully installed easyprocess-0.3 entrypoint2-0.2.4 patool-1.12 pyunpack-0.2.2\n"
          ],
          "name": "stdout"
        }
      ]
    },
    {
      "cell_type": "code",
      "metadata": {
        "id": "IbcWWCZixGLo"
      },
      "source": [
        "from keras.preprocessing.image import ImageDataGenerator"
      ],
      "execution_count": null,
      "outputs": []
    },
    {
      "cell_type": "code",
      "metadata": {
        "id": "1zVg9pQCUVjO"
      },
      "source": [
        "import os\n",
        "import math\n",
        "os.mkdir(\"caltech_test\") # stores test data\n",
        "\n",
        "for cat in os.listdir(\"/content/dataset/Caltech101/\"):\n",
        "  # moves x portion of images per category into test images\n",
        "  os.mkdir(\"caltech_test/\"+cat) # new category folder\n",
        "  imgs = os.listdir(\"/content/dataset/Caltech101/\"+cat) # all image filenames\n",
        "  test_imgs = imgs[30:len(imgs)]\n",
        "  for t_img in test_imgs: # move test portion\n",
        "    os.rename(\"/content/dataset/Caltech101/\"+cat+\"/\"+t_img, \"caltech_test/\"+cat+\"/\"+t_img)"
      ],
      "execution_count": null,
      "outputs": []
    },
    {
      "cell_type": "code",
      "metadata": {
        "id": "Zf363T2k3Ac6"
      },
      "source": [
        "def fixed_generator(generator):\n",
        "    for batch in generator:\n",
        "        yield (batch, batch)"
      ],
      "execution_count": null,
      "outputs": []
    },
    {
      "cell_type": "code",
      "metadata": {
        "id": "kdgslrt8UYvz",
        "colab": {
          "base_uri": "https://localhost:8080/"
        },
        "outputId": "fbd1c195-e64c-441f-a9aa-8648fbd68c25"
      },
      "source": [
        "from keras.applications.resnet50 import preprocess_input \n",
        "\n",
        "train_gen_autoencoder = ImageDataGenerator(rescale=1./255) \n",
        "train_flow = train_gen_autoencoder.flow_from_directory(\"/content/dataset/Caltech101/\", target_size=(256, 256), batch_size=64,class_mode=None)\n",
        "valid_flow = train_gen_autoencoder.flow_from_directory(\"/content/dataset/Caltech101/\", target_size=(256, 256), batch_size=64,class_mode=None)"
      ],
      "execution_count": null,
      "outputs": [
        {
          "output_type": "stream",
          "text": [
            "Found 3060 images belonging to 102 classes.\n",
            "Found 3060 images belonging to 102 classes.\n"
          ],
          "name": "stdout"
        }
      ]
    },
    {
      "cell_type": "code",
      "metadata": {
        "id": "KMnbi4f3UjCC"
      },
      "source": [
        "from tensorflow.keras.applications.resnet50 import ResNet50, preprocess_input\n",
        "import tensorflow.keras as keras\n",
        "from tensorflow.keras import models\n",
        "from tensorflow.keras import layers\n",
        "from tensorflow.keras import optimizers\n",
        "import tensorflow as tf\n",
        "from keras.utils import np_utils\n",
        "from keras.models import load_model\n",
        "from keras.datasets import cifar10\n",
        "from keras.preprocessing import image\n",
        "import numpy as np\n",
        "import matplotlib.pyplot as plt\n",
        "from PIL import Image\n",
        "import cv2"
      ],
      "execution_count": null,
      "outputs": []
    },
    {
      "cell_type": "code",
      "metadata": {
        "id": "Ky23DnIzUjoh"
      },
      "source": [
        "model = models.Sequential()\n",
        "\n",
        "# Encoder Layer\n",
        "model.add(layers.Conv2D(16, (3, 3), activation='relu', padding='same'))\n",
        "model.add(layers.MaxPooling2D((2, 2), padding='same') )\n",
        "\n",
        "\n",
        "# Decoder Layer\n",
        "model.add(layers.Conv2D(16, (3, 3), activation='relu', padding='same'))\n",
        "model.add(layers.UpSampling2D((2, 2)) )\n",
        "model.add(layers.Conv2D(1, (3, 3), activation='sigmoid', padding='same') )"
      ],
      "execution_count": null,
      "outputs": []
    },
    {
      "cell_type": "code",
      "metadata": {
        "id": "SS_WYxeR-fxz"
      },
      "source": [
        "model.compile(optimizer='adadelta', loss='binary_crossentropy')"
      ],
      "execution_count": null,
      "outputs": []
    },
    {
      "cell_type": "code",
      "metadata": {
        "id": "48S4JkL4UnbT",
        "colab": {
          "base_uri": "https://localhost:8080/"
        },
        "outputId": "ea90c286-40c8-4854-e10e-a6478ffb4c6d"
      },
      "source": [
        "model.fit_generator(fixed_generator(train_flow), epochs=5,steps_per_epoch=3030//128, validation_steps=5647//128,validation_data = fixed_generator(valid_flow) )"
      ],
      "execution_count": null,
      "outputs": [
        {
          "output_type": "stream",
          "text": [
            "/usr/local/lib/python3.7/dist-packages/tensorflow/python/keras/engine/training.py:1844: UserWarning: `Model.fit_generator` is deprecated and will be removed in a future version. Please use `Model.fit`, which supports generators.\n",
            "  warnings.warn('`Model.fit_generator` is deprecated and '\n"
          ],
          "name": "stderr"
        },
        {
          "output_type": "stream",
          "text": [
            "Epoch 1/5\n",
            "23/23 [==============================] - 10s 429ms/step - loss: 0.7018 - val_loss: 0.7016\n",
            "Epoch 2/5\n",
            "23/23 [==============================] - 9s 412ms/step - loss: 0.7016 - val_loss: 0.7014\n",
            "Epoch 3/5\n",
            "23/23 [==============================] - 10s 435ms/step - loss: 0.7010 - val_loss: 0.7010\n",
            "Epoch 4/5\n",
            "23/23 [==============================] - 9s 420ms/step - loss: 0.7005 - val_loss: 0.7007\n",
            "Epoch 5/5\n",
            "23/23 [==============================] - 9s 413ms/step - loss: 0.7014 - val_loss: 0.7007\n"
          ],
          "name": "stdout"
        },
        {
          "output_type": "execute_result",
          "data": {
            "text/plain": [
              "<tensorflow.python.keras.callbacks.History at 0x7f9e103f2990>"
            ]
          },
          "metadata": {
            "tags": []
          },
          "execution_count": 9
        }
      ]
    },
    {
      "cell_type": "code",
      "metadata": {
        "id": "tzOyFuf1UwWd",
        "colab": {
          "base_uri": "https://localhost:8080/"
        },
        "outputId": "2faf4a26-2728-47f1-e7d5-b49efeb3cb8b"
      },
      "source": [
        "from keras.applications.resnet50 import preprocess_input \n",
        "\n",
        "train_gen = ImageDataGenerator(validation_split=0.2, preprocessing_function=preprocess_input) \n",
        "train_flow = train_gen.flow_from_directory(\"/content/dataset/Caltech101/\", target_size=(256, 256), batch_size=32, subset=\"training\")\n",
        "valid_flow = train_gen.flow_from_directory(\"/content/dataset/Caltech101/\", target_size=(256, 256), batch_size=32, subset=\"validation\")"
      ],
      "execution_count": null,
      "outputs": [
        {
          "output_type": "stream",
          "text": [
            "Found 2448 images belonging to 102 classes.\n",
            "Found 612 images belonging to 102 classes.\n"
          ],
          "name": "stdout"
        }
      ]
    },
    {
      "cell_type": "code",
      "metadata": {
        "id": "O2iqp6RMU1Xm",
        "colab": {
          "base_uri": "https://localhost:8080/"
        },
        "outputId": "cb8e891b-6e53-4a80-cd5e-eed184592d5d"
      },
      "source": [
        "test_gen = ImageDataGenerator(preprocessing_function=preprocess_input)\n",
        "test_flow = test_gen.flow_from_directory(\"caltech_test\", target_size=(256, 256), batch_size=32)"
      ],
      "execution_count": null,
      "outputs": [
        {
          "output_type": "stream",
          "text": [
            "Found 6084 images belonging to 102 classes.\n"
          ],
          "name": "stdout"
        }
      ]
    },
    {
      "cell_type": "code",
      "metadata": {
        "id": "F_frC2j9U9vm",
        "colab": {
          "base_uri": "https://localhost:8080/"
        },
        "outputId": "1aae254b-a381-4276-a4a4-ff3750931ec8"
      },
      "source": [
        "from keras.applications.resnet50 import ResNet50\n",
        "from keras.layers import GlobalAveragePooling2D, BatchNormalization, Dropout, Dense\n",
        "from keras.models import Model,Sequential\n",
        "\n",
        "\n",
        "res = ResNet50(weights='imagenet', include_top=False, input_shape=(256, 256, 3)) \n",
        "\n",
        "for layer in res.layers: \n",
        "  layer.trainable = False\n",
        "\n",
        "\n",
        "x = res.output \n",
        "x = GlobalAveragePooling2D()(x)\n",
        "x = BatchNormalization()(x)\n",
        "x = Dropout(0.5)(x)\n",
        "x = Dense(512, activation='relu')(x)\n",
        "x = BatchNormalization()(x)\n",
        "x = Dropout(0.5)(x)\n",
        "x = Dense(102, activation='softmax')(x)\n",
        "\n",
        "model = Model(res.input, x) \n",
        "opt = tf.keras.optimizers.RMSprop(\n",
        "    learning_rate=0.001,\n",
        "    rho=0.9,\n",
        "    momentum=0.0,\n",
        "    epsilon=1e-07,\n",
        "    centered=False,\n",
        "    name=\"RMSprop\"\n",
        ")\n",
        "model.compile(optimizer=opt, loss='categorical_crossentropy', metrics=['accuracy'])\n",
        "model.summary() "
      ],
      "execution_count": null,
      "outputs": [
        {
          "output_type": "stream",
          "text": [
            "Downloading data from https://storage.googleapis.com/tensorflow/keras-applications/resnet/resnet50_weights_tf_dim_ordering_tf_kernels_notop.h5\n",
            "94773248/94765736 [==============================] - 0s 0us/step\n",
            "Model: \"model\"\n",
            "__________________________________________________________________________________________________\n",
            "Layer (type)                    Output Shape         Param #     Connected to                     \n",
            "==================================================================================================\n",
            "input_1 (InputLayer)            [(None, 256, 256, 3) 0                                            \n",
            "__________________________________________________________________________________________________\n",
            "conv1_pad (ZeroPadding2D)       (None, 262, 262, 3)  0           input_1[0][0]                    \n",
            "__________________________________________________________________________________________________\n",
            "conv1_conv (Conv2D)             (None, 128, 128, 64) 9472        conv1_pad[0][0]                  \n",
            "__________________________________________________________________________________________________\n",
            "conv1_bn (BatchNormalization)   (None, 128, 128, 64) 256         conv1_conv[0][0]                 \n",
            "__________________________________________________________________________________________________\n",
            "conv1_relu (Activation)         (None, 128, 128, 64) 0           conv1_bn[0][0]                   \n",
            "__________________________________________________________________________________________________\n",
            "pool1_pad (ZeroPadding2D)       (None, 130, 130, 64) 0           conv1_relu[0][0]                 \n",
            "__________________________________________________________________________________________________\n",
            "pool1_pool (MaxPooling2D)       (None, 64, 64, 64)   0           pool1_pad[0][0]                  \n",
            "__________________________________________________________________________________________________\n",
            "conv2_block1_1_conv (Conv2D)    (None, 64, 64, 64)   4160        pool1_pool[0][0]                 \n",
            "__________________________________________________________________________________________________\n",
            "conv2_block1_1_bn (BatchNormali (None, 64, 64, 64)   256         conv2_block1_1_conv[0][0]        \n",
            "__________________________________________________________________________________________________\n",
            "conv2_block1_1_relu (Activation (None, 64, 64, 64)   0           conv2_block1_1_bn[0][0]          \n",
            "__________________________________________________________________________________________________\n",
            "conv2_block1_2_conv (Conv2D)    (None, 64, 64, 64)   36928       conv2_block1_1_relu[0][0]        \n",
            "__________________________________________________________________________________________________\n",
            "conv2_block1_2_bn (BatchNormali (None, 64, 64, 64)   256         conv2_block1_2_conv[0][0]        \n",
            "__________________________________________________________________________________________________\n",
            "conv2_block1_2_relu (Activation (None, 64, 64, 64)   0           conv2_block1_2_bn[0][0]          \n",
            "__________________________________________________________________________________________________\n",
            "conv2_block1_0_conv (Conv2D)    (None, 64, 64, 256)  16640       pool1_pool[0][0]                 \n",
            "__________________________________________________________________________________________________\n",
            "conv2_block1_3_conv (Conv2D)    (None, 64, 64, 256)  16640       conv2_block1_2_relu[0][0]        \n",
            "__________________________________________________________________________________________________\n",
            "conv2_block1_0_bn (BatchNormali (None, 64, 64, 256)  1024        conv2_block1_0_conv[0][0]        \n",
            "__________________________________________________________________________________________________\n",
            "conv2_block1_3_bn (BatchNormali (None, 64, 64, 256)  1024        conv2_block1_3_conv[0][0]        \n",
            "__________________________________________________________________________________________________\n",
            "conv2_block1_add (Add)          (None, 64, 64, 256)  0           conv2_block1_0_bn[0][0]          \n",
            "                                                                 conv2_block1_3_bn[0][0]          \n",
            "__________________________________________________________________________________________________\n",
            "conv2_block1_out (Activation)   (None, 64, 64, 256)  0           conv2_block1_add[0][0]           \n",
            "__________________________________________________________________________________________________\n",
            "conv2_block2_1_conv (Conv2D)    (None, 64, 64, 64)   16448       conv2_block1_out[0][0]           \n",
            "__________________________________________________________________________________________________\n",
            "conv2_block2_1_bn (BatchNormali (None, 64, 64, 64)   256         conv2_block2_1_conv[0][0]        \n",
            "__________________________________________________________________________________________________\n",
            "conv2_block2_1_relu (Activation (None, 64, 64, 64)   0           conv2_block2_1_bn[0][0]          \n",
            "__________________________________________________________________________________________________\n",
            "conv2_block2_2_conv (Conv2D)    (None, 64, 64, 64)   36928       conv2_block2_1_relu[0][0]        \n",
            "__________________________________________________________________________________________________\n",
            "conv2_block2_2_bn (BatchNormali (None, 64, 64, 64)   256         conv2_block2_2_conv[0][0]        \n",
            "__________________________________________________________________________________________________\n",
            "conv2_block2_2_relu (Activation (None, 64, 64, 64)   0           conv2_block2_2_bn[0][0]          \n",
            "__________________________________________________________________________________________________\n",
            "conv2_block2_3_conv (Conv2D)    (None, 64, 64, 256)  16640       conv2_block2_2_relu[0][0]        \n",
            "__________________________________________________________________________________________________\n",
            "conv2_block2_3_bn (BatchNormali (None, 64, 64, 256)  1024        conv2_block2_3_conv[0][0]        \n",
            "__________________________________________________________________________________________________\n",
            "conv2_block2_add (Add)          (None, 64, 64, 256)  0           conv2_block1_out[0][0]           \n",
            "                                                                 conv2_block2_3_bn[0][0]          \n",
            "__________________________________________________________________________________________________\n",
            "conv2_block2_out (Activation)   (None, 64, 64, 256)  0           conv2_block2_add[0][0]           \n",
            "__________________________________________________________________________________________________\n",
            "conv2_block3_1_conv (Conv2D)    (None, 64, 64, 64)   16448       conv2_block2_out[0][0]           \n",
            "__________________________________________________________________________________________________\n",
            "conv2_block3_1_bn (BatchNormali (None, 64, 64, 64)   256         conv2_block3_1_conv[0][0]        \n",
            "__________________________________________________________________________________________________\n",
            "conv2_block3_1_relu (Activation (None, 64, 64, 64)   0           conv2_block3_1_bn[0][0]          \n",
            "__________________________________________________________________________________________________\n",
            "conv2_block3_2_conv (Conv2D)    (None, 64, 64, 64)   36928       conv2_block3_1_relu[0][0]        \n",
            "__________________________________________________________________________________________________\n",
            "conv2_block3_2_bn (BatchNormali (None, 64, 64, 64)   256         conv2_block3_2_conv[0][0]        \n",
            "__________________________________________________________________________________________________\n",
            "conv2_block3_2_relu (Activation (None, 64, 64, 64)   0           conv2_block3_2_bn[0][0]          \n",
            "__________________________________________________________________________________________________\n",
            "conv2_block3_3_conv (Conv2D)    (None, 64, 64, 256)  16640       conv2_block3_2_relu[0][0]        \n",
            "__________________________________________________________________________________________________\n",
            "conv2_block3_3_bn (BatchNormali (None, 64, 64, 256)  1024        conv2_block3_3_conv[0][0]        \n",
            "__________________________________________________________________________________________________\n",
            "conv2_block3_add (Add)          (None, 64, 64, 256)  0           conv2_block2_out[0][0]           \n",
            "                                                                 conv2_block3_3_bn[0][0]          \n",
            "__________________________________________________________________________________________________\n",
            "conv2_block3_out (Activation)   (None, 64, 64, 256)  0           conv2_block3_add[0][0]           \n",
            "__________________________________________________________________________________________________\n",
            "conv3_block1_1_conv (Conv2D)    (None, 32, 32, 128)  32896       conv2_block3_out[0][0]           \n",
            "__________________________________________________________________________________________________\n",
            "conv3_block1_1_bn (BatchNormali (None, 32, 32, 128)  512         conv3_block1_1_conv[0][0]        \n",
            "__________________________________________________________________________________________________\n",
            "conv3_block1_1_relu (Activation (None, 32, 32, 128)  0           conv3_block1_1_bn[0][0]          \n",
            "__________________________________________________________________________________________________\n",
            "conv3_block1_2_conv (Conv2D)    (None, 32, 32, 128)  147584      conv3_block1_1_relu[0][0]        \n",
            "__________________________________________________________________________________________________\n",
            "conv3_block1_2_bn (BatchNormali (None, 32, 32, 128)  512         conv3_block1_2_conv[0][0]        \n",
            "__________________________________________________________________________________________________\n",
            "conv3_block1_2_relu (Activation (None, 32, 32, 128)  0           conv3_block1_2_bn[0][0]          \n",
            "__________________________________________________________________________________________________\n",
            "conv3_block1_0_conv (Conv2D)    (None, 32, 32, 512)  131584      conv2_block3_out[0][0]           \n",
            "__________________________________________________________________________________________________\n",
            "conv3_block1_3_conv (Conv2D)    (None, 32, 32, 512)  66048       conv3_block1_2_relu[0][0]        \n",
            "__________________________________________________________________________________________________\n",
            "conv3_block1_0_bn (BatchNormali (None, 32, 32, 512)  2048        conv3_block1_0_conv[0][0]        \n",
            "__________________________________________________________________________________________________\n",
            "conv3_block1_3_bn (BatchNormali (None, 32, 32, 512)  2048        conv3_block1_3_conv[0][0]        \n",
            "__________________________________________________________________________________________________\n",
            "conv3_block1_add (Add)          (None, 32, 32, 512)  0           conv3_block1_0_bn[0][0]          \n",
            "                                                                 conv3_block1_3_bn[0][0]          \n",
            "__________________________________________________________________________________________________\n",
            "conv3_block1_out (Activation)   (None, 32, 32, 512)  0           conv3_block1_add[0][0]           \n",
            "__________________________________________________________________________________________________\n",
            "conv3_block2_1_conv (Conv2D)    (None, 32, 32, 128)  65664       conv3_block1_out[0][0]           \n",
            "__________________________________________________________________________________________________\n",
            "conv3_block2_1_bn (BatchNormali (None, 32, 32, 128)  512         conv3_block2_1_conv[0][0]        \n",
            "__________________________________________________________________________________________________\n",
            "conv3_block2_1_relu (Activation (None, 32, 32, 128)  0           conv3_block2_1_bn[0][0]          \n",
            "__________________________________________________________________________________________________\n",
            "conv3_block2_2_conv (Conv2D)    (None, 32, 32, 128)  147584      conv3_block2_1_relu[0][0]        \n",
            "__________________________________________________________________________________________________\n",
            "conv3_block2_2_bn (BatchNormali (None, 32, 32, 128)  512         conv3_block2_2_conv[0][0]        \n",
            "__________________________________________________________________________________________________\n",
            "conv3_block2_2_relu (Activation (None, 32, 32, 128)  0           conv3_block2_2_bn[0][0]          \n",
            "__________________________________________________________________________________________________\n",
            "conv3_block2_3_conv (Conv2D)    (None, 32, 32, 512)  66048       conv3_block2_2_relu[0][0]        \n",
            "__________________________________________________________________________________________________\n",
            "conv3_block2_3_bn (BatchNormali (None, 32, 32, 512)  2048        conv3_block2_3_conv[0][0]        \n",
            "__________________________________________________________________________________________________\n",
            "conv3_block2_add (Add)          (None, 32, 32, 512)  0           conv3_block1_out[0][0]           \n",
            "                                                                 conv3_block2_3_bn[0][0]          \n",
            "__________________________________________________________________________________________________\n",
            "conv3_block2_out (Activation)   (None, 32, 32, 512)  0           conv3_block2_add[0][0]           \n",
            "__________________________________________________________________________________________________\n",
            "conv3_block3_1_conv (Conv2D)    (None, 32, 32, 128)  65664       conv3_block2_out[0][0]           \n",
            "__________________________________________________________________________________________________\n",
            "conv3_block3_1_bn (BatchNormali (None, 32, 32, 128)  512         conv3_block3_1_conv[0][0]        \n",
            "__________________________________________________________________________________________________\n",
            "conv3_block3_1_relu (Activation (None, 32, 32, 128)  0           conv3_block3_1_bn[0][0]          \n",
            "__________________________________________________________________________________________________\n",
            "conv3_block3_2_conv (Conv2D)    (None, 32, 32, 128)  147584      conv3_block3_1_relu[0][0]        \n",
            "__________________________________________________________________________________________________\n",
            "conv3_block3_2_bn (BatchNormali (None, 32, 32, 128)  512         conv3_block3_2_conv[0][0]        \n",
            "__________________________________________________________________________________________________\n",
            "conv3_block3_2_relu (Activation (None, 32, 32, 128)  0           conv3_block3_2_bn[0][0]          \n",
            "__________________________________________________________________________________________________\n",
            "conv3_block3_3_conv (Conv2D)    (None, 32, 32, 512)  66048       conv3_block3_2_relu[0][0]        \n",
            "__________________________________________________________________________________________________\n",
            "conv3_block3_3_bn (BatchNormali (None, 32, 32, 512)  2048        conv3_block3_3_conv[0][0]        \n",
            "__________________________________________________________________________________________________\n",
            "conv3_block3_add (Add)          (None, 32, 32, 512)  0           conv3_block2_out[0][0]           \n",
            "                                                                 conv3_block3_3_bn[0][0]          \n",
            "__________________________________________________________________________________________________\n",
            "conv3_block3_out (Activation)   (None, 32, 32, 512)  0           conv3_block3_add[0][0]           \n",
            "__________________________________________________________________________________________________\n",
            "conv3_block4_1_conv (Conv2D)    (None, 32, 32, 128)  65664       conv3_block3_out[0][0]           \n",
            "__________________________________________________________________________________________________\n",
            "conv3_block4_1_bn (BatchNormali (None, 32, 32, 128)  512         conv3_block4_1_conv[0][0]        \n",
            "__________________________________________________________________________________________________\n",
            "conv3_block4_1_relu (Activation (None, 32, 32, 128)  0           conv3_block4_1_bn[0][0]          \n",
            "__________________________________________________________________________________________________\n",
            "conv3_block4_2_conv (Conv2D)    (None, 32, 32, 128)  147584      conv3_block4_1_relu[0][0]        \n",
            "__________________________________________________________________________________________________\n",
            "conv3_block4_2_bn (BatchNormali (None, 32, 32, 128)  512         conv3_block4_2_conv[0][0]        \n",
            "__________________________________________________________________________________________________\n",
            "conv3_block4_2_relu (Activation (None, 32, 32, 128)  0           conv3_block4_2_bn[0][0]          \n",
            "__________________________________________________________________________________________________\n",
            "conv3_block4_3_conv (Conv2D)    (None, 32, 32, 512)  66048       conv3_block4_2_relu[0][0]        \n",
            "__________________________________________________________________________________________________\n",
            "conv3_block4_3_bn (BatchNormali (None, 32, 32, 512)  2048        conv3_block4_3_conv[0][0]        \n",
            "__________________________________________________________________________________________________\n",
            "conv3_block4_add (Add)          (None, 32, 32, 512)  0           conv3_block3_out[0][0]           \n",
            "                                                                 conv3_block4_3_bn[0][0]          \n",
            "__________________________________________________________________________________________________\n",
            "conv3_block4_out (Activation)   (None, 32, 32, 512)  0           conv3_block4_add[0][0]           \n",
            "__________________________________________________________________________________________________\n",
            "conv4_block1_1_conv (Conv2D)    (None, 16, 16, 256)  131328      conv3_block4_out[0][0]           \n",
            "__________________________________________________________________________________________________\n",
            "conv4_block1_1_bn (BatchNormali (None, 16, 16, 256)  1024        conv4_block1_1_conv[0][0]        \n",
            "__________________________________________________________________________________________________\n",
            "conv4_block1_1_relu (Activation (None, 16, 16, 256)  0           conv4_block1_1_bn[0][0]          \n",
            "__________________________________________________________________________________________________\n",
            "conv4_block1_2_conv (Conv2D)    (None, 16, 16, 256)  590080      conv4_block1_1_relu[0][0]        \n",
            "__________________________________________________________________________________________________\n",
            "conv4_block1_2_bn (BatchNormali (None, 16, 16, 256)  1024        conv4_block1_2_conv[0][0]        \n",
            "__________________________________________________________________________________________________\n",
            "conv4_block1_2_relu (Activation (None, 16, 16, 256)  0           conv4_block1_2_bn[0][0]          \n",
            "__________________________________________________________________________________________________\n",
            "conv4_block1_0_conv (Conv2D)    (None, 16, 16, 1024) 525312      conv3_block4_out[0][0]           \n",
            "__________________________________________________________________________________________________\n",
            "conv4_block1_3_conv (Conv2D)    (None, 16, 16, 1024) 263168      conv4_block1_2_relu[0][0]        \n",
            "__________________________________________________________________________________________________\n",
            "conv4_block1_0_bn (BatchNormali (None, 16, 16, 1024) 4096        conv4_block1_0_conv[0][0]        \n",
            "__________________________________________________________________________________________________\n",
            "conv4_block1_3_bn (BatchNormali (None, 16, 16, 1024) 4096        conv4_block1_3_conv[0][0]        \n",
            "__________________________________________________________________________________________________\n",
            "conv4_block1_add (Add)          (None, 16, 16, 1024) 0           conv4_block1_0_bn[0][0]          \n",
            "                                                                 conv4_block1_3_bn[0][0]          \n",
            "__________________________________________________________________________________________________\n",
            "conv4_block1_out (Activation)   (None, 16, 16, 1024) 0           conv4_block1_add[0][0]           \n",
            "__________________________________________________________________________________________________\n",
            "conv4_block2_1_conv (Conv2D)    (None, 16, 16, 256)  262400      conv4_block1_out[0][0]           \n",
            "__________________________________________________________________________________________________\n",
            "conv4_block2_1_bn (BatchNormali (None, 16, 16, 256)  1024        conv4_block2_1_conv[0][0]        \n",
            "__________________________________________________________________________________________________\n",
            "conv4_block2_1_relu (Activation (None, 16, 16, 256)  0           conv4_block2_1_bn[0][0]          \n",
            "__________________________________________________________________________________________________\n",
            "conv4_block2_2_conv (Conv2D)    (None, 16, 16, 256)  590080      conv4_block2_1_relu[0][0]        \n",
            "__________________________________________________________________________________________________\n",
            "conv4_block2_2_bn (BatchNormali (None, 16, 16, 256)  1024        conv4_block2_2_conv[0][0]        \n",
            "__________________________________________________________________________________________________\n",
            "conv4_block2_2_relu (Activation (None, 16, 16, 256)  0           conv4_block2_2_bn[0][0]          \n",
            "__________________________________________________________________________________________________\n",
            "conv4_block2_3_conv (Conv2D)    (None, 16, 16, 1024) 263168      conv4_block2_2_relu[0][0]        \n",
            "__________________________________________________________________________________________________\n",
            "conv4_block2_3_bn (BatchNormali (None, 16, 16, 1024) 4096        conv4_block2_3_conv[0][0]        \n",
            "__________________________________________________________________________________________________\n",
            "conv4_block2_add (Add)          (None, 16, 16, 1024) 0           conv4_block1_out[0][0]           \n",
            "                                                                 conv4_block2_3_bn[0][0]          \n",
            "__________________________________________________________________________________________________\n",
            "conv4_block2_out (Activation)   (None, 16, 16, 1024) 0           conv4_block2_add[0][0]           \n",
            "__________________________________________________________________________________________________\n",
            "conv4_block3_1_conv (Conv2D)    (None, 16, 16, 256)  262400      conv4_block2_out[0][0]           \n",
            "__________________________________________________________________________________________________\n",
            "conv4_block3_1_bn (BatchNormali (None, 16, 16, 256)  1024        conv4_block3_1_conv[0][0]        \n",
            "__________________________________________________________________________________________________\n",
            "conv4_block3_1_relu (Activation (None, 16, 16, 256)  0           conv4_block3_1_bn[0][0]          \n",
            "__________________________________________________________________________________________________\n",
            "conv4_block3_2_conv (Conv2D)    (None, 16, 16, 256)  590080      conv4_block3_1_relu[0][0]        \n",
            "__________________________________________________________________________________________________\n",
            "conv4_block3_2_bn (BatchNormali (None, 16, 16, 256)  1024        conv4_block3_2_conv[0][0]        \n",
            "__________________________________________________________________________________________________\n",
            "conv4_block3_2_relu (Activation (None, 16, 16, 256)  0           conv4_block3_2_bn[0][0]          \n",
            "__________________________________________________________________________________________________\n",
            "conv4_block3_3_conv (Conv2D)    (None, 16, 16, 1024) 263168      conv4_block3_2_relu[0][0]        \n",
            "__________________________________________________________________________________________________\n",
            "conv4_block3_3_bn (BatchNormali (None, 16, 16, 1024) 4096        conv4_block3_3_conv[0][0]        \n",
            "__________________________________________________________________________________________________\n",
            "conv4_block3_add (Add)          (None, 16, 16, 1024) 0           conv4_block2_out[0][0]           \n",
            "                                                                 conv4_block3_3_bn[0][0]          \n",
            "__________________________________________________________________________________________________\n",
            "conv4_block3_out (Activation)   (None, 16, 16, 1024) 0           conv4_block3_add[0][0]           \n",
            "__________________________________________________________________________________________________\n",
            "conv4_block4_1_conv (Conv2D)    (None, 16, 16, 256)  262400      conv4_block3_out[0][0]           \n",
            "__________________________________________________________________________________________________\n",
            "conv4_block4_1_bn (BatchNormali (None, 16, 16, 256)  1024        conv4_block4_1_conv[0][0]        \n",
            "__________________________________________________________________________________________________\n",
            "conv4_block4_1_relu (Activation (None, 16, 16, 256)  0           conv4_block4_1_bn[0][0]          \n",
            "__________________________________________________________________________________________________\n",
            "conv4_block4_2_conv (Conv2D)    (None, 16, 16, 256)  590080      conv4_block4_1_relu[0][0]        \n",
            "__________________________________________________________________________________________________\n",
            "conv4_block4_2_bn (BatchNormali (None, 16, 16, 256)  1024        conv4_block4_2_conv[0][0]        \n",
            "__________________________________________________________________________________________________\n",
            "conv4_block4_2_relu (Activation (None, 16, 16, 256)  0           conv4_block4_2_bn[0][0]          \n",
            "__________________________________________________________________________________________________\n",
            "conv4_block4_3_conv (Conv2D)    (None, 16, 16, 1024) 263168      conv4_block4_2_relu[0][0]        \n",
            "__________________________________________________________________________________________________\n",
            "conv4_block4_3_bn (BatchNormali (None, 16, 16, 1024) 4096        conv4_block4_3_conv[0][0]        \n",
            "__________________________________________________________________________________________________\n",
            "conv4_block4_add (Add)          (None, 16, 16, 1024) 0           conv4_block3_out[0][0]           \n",
            "                                                                 conv4_block4_3_bn[0][0]          \n",
            "__________________________________________________________________________________________________\n",
            "conv4_block4_out (Activation)   (None, 16, 16, 1024) 0           conv4_block4_add[0][0]           \n",
            "__________________________________________________________________________________________________\n",
            "conv4_block5_1_conv (Conv2D)    (None, 16, 16, 256)  262400      conv4_block4_out[0][0]           \n",
            "__________________________________________________________________________________________________\n",
            "conv4_block5_1_bn (BatchNormali (None, 16, 16, 256)  1024        conv4_block5_1_conv[0][0]        \n",
            "__________________________________________________________________________________________________\n",
            "conv4_block5_1_relu (Activation (None, 16, 16, 256)  0           conv4_block5_1_bn[0][0]          \n",
            "__________________________________________________________________________________________________\n",
            "conv4_block5_2_conv (Conv2D)    (None, 16, 16, 256)  590080      conv4_block5_1_relu[0][0]        \n",
            "__________________________________________________________________________________________________\n",
            "conv4_block5_2_bn (BatchNormali (None, 16, 16, 256)  1024        conv4_block5_2_conv[0][0]        \n",
            "__________________________________________________________________________________________________\n",
            "conv4_block5_2_relu (Activation (None, 16, 16, 256)  0           conv4_block5_2_bn[0][0]          \n",
            "__________________________________________________________________________________________________\n",
            "conv4_block5_3_conv (Conv2D)    (None, 16, 16, 1024) 263168      conv4_block5_2_relu[0][0]        \n",
            "__________________________________________________________________________________________________\n",
            "conv4_block5_3_bn (BatchNormali (None, 16, 16, 1024) 4096        conv4_block5_3_conv[0][0]        \n",
            "__________________________________________________________________________________________________\n",
            "conv4_block5_add (Add)          (None, 16, 16, 1024) 0           conv4_block4_out[0][0]           \n",
            "                                                                 conv4_block5_3_bn[0][0]          \n",
            "__________________________________________________________________________________________________\n",
            "conv4_block5_out (Activation)   (None, 16, 16, 1024) 0           conv4_block5_add[0][0]           \n",
            "__________________________________________________________________________________________________\n",
            "conv4_block6_1_conv (Conv2D)    (None, 16, 16, 256)  262400      conv4_block5_out[0][0]           \n",
            "__________________________________________________________________________________________________\n",
            "conv4_block6_1_bn (BatchNormali (None, 16, 16, 256)  1024        conv4_block6_1_conv[0][0]        \n",
            "__________________________________________________________________________________________________\n",
            "conv4_block6_1_relu (Activation (None, 16, 16, 256)  0           conv4_block6_1_bn[0][0]          \n",
            "__________________________________________________________________________________________________\n",
            "conv4_block6_2_conv (Conv2D)    (None, 16, 16, 256)  590080      conv4_block6_1_relu[0][0]        \n",
            "__________________________________________________________________________________________________\n",
            "conv4_block6_2_bn (BatchNormali (None, 16, 16, 256)  1024        conv4_block6_2_conv[0][0]        \n",
            "__________________________________________________________________________________________________\n",
            "conv4_block6_2_relu (Activation (None, 16, 16, 256)  0           conv4_block6_2_bn[0][0]          \n",
            "__________________________________________________________________________________________________\n",
            "conv4_block6_3_conv (Conv2D)    (None, 16, 16, 1024) 263168      conv4_block6_2_relu[0][0]        \n",
            "__________________________________________________________________________________________________\n",
            "conv4_block6_3_bn (BatchNormali (None, 16, 16, 1024) 4096        conv4_block6_3_conv[0][0]        \n",
            "__________________________________________________________________________________________________\n",
            "conv4_block6_add (Add)          (None, 16, 16, 1024) 0           conv4_block5_out[0][0]           \n",
            "                                                                 conv4_block6_3_bn[0][0]          \n",
            "__________________________________________________________________________________________________\n",
            "conv4_block6_out (Activation)   (None, 16, 16, 1024) 0           conv4_block6_add[0][0]           \n",
            "__________________________________________________________________________________________________\n",
            "conv5_block1_1_conv (Conv2D)    (None, 8, 8, 512)    524800      conv4_block6_out[0][0]           \n",
            "__________________________________________________________________________________________________\n",
            "conv5_block1_1_bn (BatchNormali (None, 8, 8, 512)    2048        conv5_block1_1_conv[0][0]        \n",
            "__________________________________________________________________________________________________\n",
            "conv5_block1_1_relu (Activation (None, 8, 8, 512)    0           conv5_block1_1_bn[0][0]          \n",
            "__________________________________________________________________________________________________\n",
            "conv5_block1_2_conv (Conv2D)    (None, 8, 8, 512)    2359808     conv5_block1_1_relu[0][0]        \n",
            "__________________________________________________________________________________________________\n",
            "conv5_block1_2_bn (BatchNormali (None, 8, 8, 512)    2048        conv5_block1_2_conv[0][0]        \n",
            "__________________________________________________________________________________________________\n",
            "conv5_block1_2_relu (Activation (None, 8, 8, 512)    0           conv5_block1_2_bn[0][0]          \n",
            "__________________________________________________________________________________________________\n",
            "conv5_block1_0_conv (Conv2D)    (None, 8, 8, 2048)   2099200     conv4_block6_out[0][0]           \n",
            "__________________________________________________________________________________________________\n",
            "conv5_block1_3_conv (Conv2D)    (None, 8, 8, 2048)   1050624     conv5_block1_2_relu[0][0]        \n",
            "__________________________________________________________________________________________________\n",
            "conv5_block1_0_bn (BatchNormali (None, 8, 8, 2048)   8192        conv5_block1_0_conv[0][0]        \n",
            "__________________________________________________________________________________________________\n",
            "conv5_block1_3_bn (BatchNormali (None, 8, 8, 2048)   8192        conv5_block1_3_conv[0][0]        \n",
            "__________________________________________________________________________________________________\n",
            "conv5_block1_add (Add)          (None, 8, 8, 2048)   0           conv5_block1_0_bn[0][0]          \n",
            "                                                                 conv5_block1_3_bn[0][0]          \n",
            "__________________________________________________________________________________________________\n",
            "conv5_block1_out (Activation)   (None, 8, 8, 2048)   0           conv5_block1_add[0][0]           \n",
            "__________________________________________________________________________________________________\n",
            "conv5_block2_1_conv (Conv2D)    (None, 8, 8, 512)    1049088     conv5_block1_out[0][0]           \n",
            "__________________________________________________________________________________________________\n",
            "conv5_block2_1_bn (BatchNormali (None, 8, 8, 512)    2048        conv5_block2_1_conv[0][0]        \n",
            "__________________________________________________________________________________________________\n",
            "conv5_block2_1_relu (Activation (None, 8, 8, 512)    0           conv5_block2_1_bn[0][0]          \n",
            "__________________________________________________________________________________________________\n",
            "conv5_block2_2_conv (Conv2D)    (None, 8, 8, 512)    2359808     conv5_block2_1_relu[0][0]        \n",
            "__________________________________________________________________________________________________\n",
            "conv5_block2_2_bn (BatchNormali (None, 8, 8, 512)    2048        conv5_block2_2_conv[0][0]        \n",
            "__________________________________________________________________________________________________\n",
            "conv5_block2_2_relu (Activation (None, 8, 8, 512)    0           conv5_block2_2_bn[0][0]          \n",
            "__________________________________________________________________________________________________\n",
            "conv5_block2_3_conv (Conv2D)    (None, 8, 8, 2048)   1050624     conv5_block2_2_relu[0][0]        \n",
            "__________________________________________________________________________________________________\n",
            "conv5_block2_3_bn (BatchNormali (None, 8, 8, 2048)   8192        conv5_block2_3_conv[0][0]        \n",
            "__________________________________________________________________________________________________\n",
            "conv5_block2_add (Add)          (None, 8, 8, 2048)   0           conv5_block1_out[0][0]           \n",
            "                                                                 conv5_block2_3_bn[0][0]          \n",
            "__________________________________________________________________________________________________\n",
            "conv5_block2_out (Activation)   (None, 8, 8, 2048)   0           conv5_block2_add[0][0]           \n",
            "__________________________________________________________________________________________________\n",
            "conv5_block3_1_conv (Conv2D)    (None, 8, 8, 512)    1049088     conv5_block2_out[0][0]           \n",
            "__________________________________________________________________________________________________\n",
            "conv5_block3_1_bn (BatchNormali (None, 8, 8, 512)    2048        conv5_block3_1_conv[0][0]        \n",
            "__________________________________________________________________________________________________\n",
            "conv5_block3_1_relu (Activation (None, 8, 8, 512)    0           conv5_block3_1_bn[0][0]          \n",
            "__________________________________________________________________________________________________\n",
            "conv5_block3_2_conv (Conv2D)    (None, 8, 8, 512)    2359808     conv5_block3_1_relu[0][0]        \n",
            "__________________________________________________________________________________________________\n",
            "conv5_block3_2_bn (BatchNormali (None, 8, 8, 512)    2048        conv5_block3_2_conv[0][0]        \n",
            "__________________________________________________________________________________________________\n",
            "conv5_block3_2_relu (Activation (None, 8, 8, 512)    0           conv5_block3_2_bn[0][0]          \n",
            "__________________________________________________________________________________________________\n",
            "conv5_block3_3_conv (Conv2D)    (None, 8, 8, 2048)   1050624     conv5_block3_2_relu[0][0]        \n",
            "__________________________________________________________________________________________________\n",
            "conv5_block3_3_bn (BatchNormali (None, 8, 8, 2048)   8192        conv5_block3_3_conv[0][0]        \n",
            "__________________________________________________________________________________________________\n",
            "conv5_block3_add (Add)          (None, 8, 8, 2048)   0           conv5_block2_out[0][0]           \n",
            "                                                                 conv5_block3_3_bn[0][0]          \n",
            "__________________________________________________________________________________________________\n",
            "conv5_block3_out (Activation)   (None, 8, 8, 2048)   0           conv5_block3_add[0][0]           \n",
            "__________________________________________________________________________________________________\n",
            "global_average_pooling2d (Globa (None, 2048)         0           conv5_block3_out[0][0]           \n",
            "__________________________________________________________________________________________________\n",
            "batch_normalization (BatchNorma (None, 2048)         8192        global_average_pooling2d[0][0]   \n",
            "__________________________________________________________________________________________________\n",
            "dropout (Dropout)               (None, 2048)         0           batch_normalization[0][0]        \n",
            "__________________________________________________________________________________________________\n",
            "dense (Dense)                   (None, 512)          1049088     dropout[0][0]                    \n",
            "__________________________________________________________________________________________________\n",
            "batch_normalization_1 (BatchNor (None, 512)          2048        dense[0][0]                      \n",
            "__________________________________________________________________________________________________\n",
            "dropout_1 (Dropout)             (None, 512)          0           batch_normalization_1[0][0]      \n",
            "__________________________________________________________________________________________________\n",
            "dense_1 (Dense)                 (None, 102)          52326       dropout_1[0][0]                  \n",
            "==================================================================================================\n",
            "Total params: 24,699,366\n",
            "Trainable params: 1,106,534\n",
            "Non-trainable params: 23,592,832\n",
            "__________________________________________________________________________________________________\n"
          ],
          "name": "stdout"
        }
      ]
    },
    {
      "cell_type": "code",
      "metadata": {
        "id": "xDC2Y9uFVA4D",
        "colab": {
          "base_uri": "https://localhost:8080/"
        },
        "outputId": "cf2bd37a-bb63-4754-c8df-ba671ef3bfb2"
      },
      "source": [
        "history = model.fit_generator(train_flow, epochs=100, validation_data=valid_flow) "
      ],
      "execution_count": null,
      "outputs": [
        {
          "output_type": "stream",
          "text": [
            "Epoch 1/100\n"
          ],
          "name": "stdout"
        },
        {
          "output_type": "stream",
          "text": [
            "/usr/local/lib/python3.7/dist-packages/tensorflow/python/keras/engine/training.py:1844: UserWarning: `Model.fit_generator` is deprecated and will be removed in a future version. Please use `Model.fit`, which supports generators.\n",
            "  warnings.warn('`Model.fit_generator` is deprecated and '\n"
          ],
          "name": "stderr"
        },
        {
          "output_type": "stream",
          "text": [
            "77/77 [==============================] - 12s 119ms/step - loss: 3.9482 - accuracy: 0.2310 - val_loss: 0.9454 - val_accuracy: 0.8007\n",
            "Epoch 2/100\n",
            "77/77 [==============================] - 8s 104ms/step - loss: 0.8395 - accuracy: 0.7865 - val_loss: 0.5455 - val_accuracy: 0.8742\n",
            "Epoch 3/100\n",
            "77/77 [==============================] - 8s 105ms/step - loss: 0.4379 - accuracy: 0.8936 - val_loss: 0.4876 - val_accuracy: 0.8725\n",
            "Epoch 4/100\n",
            "77/77 [==============================] - 8s 105ms/step - loss: 0.2798 - accuracy: 0.9281 - val_loss: 0.4413 - val_accuracy: 0.8824\n",
            "Epoch 5/100\n",
            "77/77 [==============================] - 8s 105ms/step - loss: 0.1883 - accuracy: 0.9631 - val_loss: 0.4090 - val_accuracy: 0.8971\n",
            "Epoch 6/100\n",
            "77/77 [==============================] - 8s 103ms/step - loss: 0.1332 - accuracy: 0.9724 - val_loss: 0.4169 - val_accuracy: 0.8824\n",
            "Epoch 7/100\n",
            "77/77 [==============================] - 8s 104ms/step - loss: 0.1120 - accuracy: 0.9785 - val_loss: 0.3901 - val_accuracy: 0.8905\n",
            "Epoch 8/100\n",
            "77/77 [==============================] - 8s 103ms/step - loss: 0.0679 - accuracy: 0.9890 - val_loss: 0.3866 - val_accuracy: 0.9036\n",
            "Epoch 9/100\n",
            "77/77 [==============================] - 8s 106ms/step - loss: 0.0600 - accuracy: 0.9895 - val_loss: 0.3725 - val_accuracy: 0.8954\n",
            "Epoch 10/100\n",
            "77/77 [==============================] - 8s 105ms/step - loss: 0.0624 - accuracy: 0.9856 - val_loss: 0.3580 - val_accuracy: 0.9101\n",
            "Epoch 11/100\n",
            "77/77 [==============================] - 8s 106ms/step - loss: 0.0463 - accuracy: 0.9917 - val_loss: 0.3757 - val_accuracy: 0.8987\n",
            "Epoch 12/100\n",
            "77/77 [==============================] - 8s 104ms/step - loss: 0.0430 - accuracy: 0.9935 - val_loss: 0.3868 - val_accuracy: 0.9036\n",
            "Epoch 13/100\n",
            "77/77 [==============================] - 8s 107ms/step - loss: 0.0486 - accuracy: 0.9914 - val_loss: 0.3892 - val_accuracy: 0.9020\n",
            "Epoch 14/100\n",
            "77/77 [==============================] - 8s 105ms/step - loss: 0.0350 - accuracy: 0.9920 - val_loss: 0.3877 - val_accuracy: 0.9101\n",
            "Epoch 15/100\n",
            "77/77 [==============================] - 8s 103ms/step - loss: 0.0361 - accuracy: 0.9909 - val_loss: 0.4107 - val_accuracy: 0.8987\n",
            "Epoch 16/100\n",
            "77/77 [==============================] - 8s 107ms/step - loss: 0.0245 - accuracy: 0.9965 - val_loss: 0.3972 - val_accuracy: 0.8987\n",
            "Epoch 17/100\n",
            "77/77 [==============================] - 8s 107ms/step - loss: 0.0299 - accuracy: 0.9941 - val_loss: 0.3937 - val_accuracy: 0.9036\n",
            "Epoch 18/100\n",
            "77/77 [==============================] - 8s 106ms/step - loss: 0.0275 - accuracy: 0.9971 - val_loss: 0.3798 - val_accuracy: 0.9020\n",
            "Epoch 19/100\n",
            "77/77 [==============================] - 8s 105ms/step - loss: 0.0231 - accuracy: 0.9946 - val_loss: 0.3936 - val_accuracy: 0.9118\n",
            "Epoch 20/100\n",
            "77/77 [==============================] - 8s 104ms/step - loss: 0.0168 - accuracy: 0.9986 - val_loss: 0.4408 - val_accuracy: 0.9085\n",
            "Epoch 21/100\n",
            "77/77 [==============================] - 8s 104ms/step - loss: 0.0184 - accuracy: 0.9961 - val_loss: 0.3968 - val_accuracy: 0.9101\n",
            "Epoch 22/100\n",
            "77/77 [==============================] - 8s 103ms/step - loss: 0.0143 - accuracy: 0.9971 - val_loss: 0.3926 - val_accuracy: 0.9118\n",
            "Epoch 23/100\n",
            "77/77 [==============================] - 8s 104ms/step - loss: 0.0185 - accuracy: 0.9977 - val_loss: 0.3863 - val_accuracy: 0.9118\n",
            "Epoch 24/100\n",
            "77/77 [==============================] - 8s 106ms/step - loss: 0.0141 - accuracy: 0.9969 - val_loss: 0.3999 - val_accuracy: 0.9052\n",
            "Epoch 25/100\n",
            "77/77 [==============================] - 8s 106ms/step - loss: 0.0166 - accuracy: 0.9956 - val_loss: 0.4274 - val_accuracy: 0.9101\n",
            "Epoch 26/100\n",
            "77/77 [==============================] - 8s 104ms/step - loss: 0.0107 - accuracy: 0.9993 - val_loss: 0.4163 - val_accuracy: 0.9101\n",
            "Epoch 27/100\n",
            "77/77 [==============================] - 8s 102ms/step - loss: 0.0152 - accuracy: 0.9975 - val_loss: 0.4135 - val_accuracy: 0.9085\n",
            "Epoch 28/100\n",
            "77/77 [==============================] - 8s 102ms/step - loss: 0.0208 - accuracy: 0.9935 - val_loss: 0.4231 - val_accuracy: 0.9085\n",
            "Epoch 29/100\n",
            "77/77 [==============================] - 8s 103ms/step - loss: 0.0097 - accuracy: 0.9983 - val_loss: 0.4047 - val_accuracy: 0.9134\n",
            "Epoch 30/100\n",
            "77/77 [==============================] - 8s 106ms/step - loss: 0.0159 - accuracy: 0.9955 - val_loss: 0.3933 - val_accuracy: 0.9134\n",
            "Epoch 31/100\n",
            "77/77 [==============================] - 8s 105ms/step - loss: 0.0144 - accuracy: 0.9973 - val_loss: 0.4075 - val_accuracy: 0.9199\n",
            "Epoch 32/100\n",
            "77/77 [==============================] - 8s 104ms/step - loss: 0.0081 - accuracy: 0.9988 - val_loss: 0.4189 - val_accuracy: 0.9216\n",
            "Epoch 33/100\n",
            "77/77 [==============================] - 8s 104ms/step - loss: 0.0111 - accuracy: 0.9978 - val_loss: 0.4156 - val_accuracy: 0.9183\n",
            "Epoch 34/100\n",
            "77/77 [==============================] - 8s 104ms/step - loss: 0.0077 - accuracy: 0.9994 - val_loss: 0.4233 - val_accuracy: 0.9134\n",
            "Epoch 35/100\n",
            "77/77 [==============================] - 8s 105ms/step - loss: 0.0063 - accuracy: 0.9991 - val_loss: 0.4356 - val_accuracy: 0.9118\n",
            "Epoch 36/100\n",
            "77/77 [==============================] - 8s 104ms/step - loss: 0.0098 - accuracy: 0.9977 - val_loss: 0.4429 - val_accuracy: 0.9101\n",
            "Epoch 37/100\n",
            "77/77 [==============================] - 8s 105ms/step - loss: 0.0079 - accuracy: 0.9988 - val_loss: 0.4601 - val_accuracy: 0.9036\n",
            "Epoch 38/100\n",
            "77/77 [==============================] - 8s 106ms/step - loss: 0.0065 - accuracy: 0.9992 - val_loss: 0.4569 - val_accuracy: 0.9036\n",
            "Epoch 39/100\n",
            "77/77 [==============================] - 8s 102ms/step - loss: 0.0071 - accuracy: 0.9991 - val_loss: 0.4304 - val_accuracy: 0.9085\n",
            "Epoch 40/100\n",
            "77/77 [==============================] - 8s 105ms/step - loss: 0.0070 - accuracy: 0.9984 - val_loss: 0.4240 - val_accuracy: 0.9085\n",
            "Epoch 41/100\n",
            "77/77 [==============================] - 8s 106ms/step - loss: 0.0081 - accuracy: 0.9981 - val_loss: 0.4690 - val_accuracy: 0.9036\n",
            "Epoch 42/100\n",
            "77/77 [==============================] - 8s 104ms/step - loss: 0.0121 - accuracy: 0.9966 - val_loss: 0.4276 - val_accuracy: 0.9101\n",
            "Epoch 43/100\n",
            "77/77 [==============================] - 8s 105ms/step - loss: 0.0074 - accuracy: 0.9988 - val_loss: 0.4555 - val_accuracy: 0.9134\n",
            "Epoch 44/100\n",
            "77/77 [==============================] - 8s 106ms/step - loss: 0.0054 - accuracy: 0.9991 - val_loss: 0.4761 - val_accuracy: 0.9036\n",
            "Epoch 45/100\n",
            "77/77 [==============================] - 8s 105ms/step - loss: 0.0053 - accuracy: 0.9999 - val_loss: 0.4328 - val_accuracy: 0.9118\n",
            "Epoch 46/100\n",
            "77/77 [==============================] - 8s 106ms/step - loss: 0.0064 - accuracy: 0.9981 - val_loss: 0.4088 - val_accuracy: 0.9183\n",
            "Epoch 47/100\n",
            "77/77 [==============================] - 8s 104ms/step - loss: 0.0087 - accuracy: 0.9984 - val_loss: 0.4377 - val_accuracy: 0.9134\n",
            "Epoch 48/100\n",
            "77/77 [==============================] - 8s 106ms/step - loss: 0.0064 - accuracy: 0.9970 - val_loss: 0.4490 - val_accuracy: 0.9069\n",
            "Epoch 49/100\n",
            "77/77 [==============================] - 8s 106ms/step - loss: 0.0043 - accuracy: 0.9998 - val_loss: 0.3950 - val_accuracy: 0.9150\n",
            "Epoch 50/100\n",
            "77/77 [==============================] - 8s 107ms/step - loss: 0.0037 - accuracy: 0.9991 - val_loss: 0.4493 - val_accuracy: 0.9052\n",
            "Epoch 51/100\n",
            "77/77 [==============================] - 8s 106ms/step - loss: 0.0044 - accuracy: 0.9994 - val_loss: 0.4098 - val_accuracy: 0.9134\n",
            "Epoch 52/100\n",
            "77/77 [==============================] - 8s 105ms/step - loss: 0.0083 - accuracy: 0.9983 - val_loss: 0.4042 - val_accuracy: 0.9085\n",
            "Epoch 53/100\n",
            "77/77 [==============================] - 8s 105ms/step - loss: 0.0029 - accuracy: 0.9995 - val_loss: 0.4342 - val_accuracy: 0.9020\n",
            "Epoch 54/100\n",
            "77/77 [==============================] - 8s 106ms/step - loss: 0.0038 - accuracy: 0.9998 - val_loss: 0.4312 - val_accuracy: 0.9085\n",
            "Epoch 55/100\n",
            "77/77 [==============================] - 8s 107ms/step - loss: 0.0061 - accuracy: 0.9978 - val_loss: 0.4293 - val_accuracy: 0.9101\n",
            "Epoch 56/100\n",
            "77/77 [==============================] - 8s 105ms/step - loss: 0.0058 - accuracy: 0.9989 - val_loss: 0.4324 - val_accuracy: 0.9101\n",
            "Epoch 57/100\n",
            "77/77 [==============================] - 8s 105ms/step - loss: 0.0049 - accuracy: 0.9993 - val_loss: 0.4327 - val_accuracy: 0.9167\n",
            "Epoch 58/100\n",
            "77/77 [==============================] - 8s 106ms/step - loss: 0.0033 - accuracy: 0.9993 - val_loss: 0.4106 - val_accuracy: 0.9101\n",
            "Epoch 59/100\n",
            "77/77 [==============================] - 8s 105ms/step - loss: 0.0050 - accuracy: 0.9986 - val_loss: 0.4237 - val_accuracy: 0.9085\n",
            "Epoch 60/100\n",
            "77/77 [==============================] - 8s 107ms/step - loss: 0.0032 - accuracy: 0.9996 - val_loss: 0.4500 - val_accuracy: 0.9118\n",
            "Epoch 61/100\n",
            "77/77 [==============================] - 8s 105ms/step - loss: 0.0084 - accuracy: 0.9973 - val_loss: 0.4325 - val_accuracy: 0.9118\n",
            "Epoch 62/100\n",
            "77/77 [==============================] - 8s 106ms/step - loss: 0.0037 - accuracy: 0.9997 - val_loss: 0.4365 - val_accuracy: 0.9134\n",
            "Epoch 63/100\n",
            "77/77 [==============================] - 8s 103ms/step - loss: 0.0034 - accuracy: 0.9996 - val_loss: 0.4525 - val_accuracy: 0.9118\n",
            "Epoch 64/100\n",
            "77/77 [==============================] - 8s 106ms/step - loss: 0.0027 - accuracy: 0.9997 - val_loss: 0.4370 - val_accuracy: 0.9167\n",
            "Epoch 65/100\n",
            "77/77 [==============================] - 8s 105ms/step - loss: 0.0024 - accuracy: 0.9996 - val_loss: 0.4643 - val_accuracy: 0.9134\n",
            "Epoch 66/100\n",
            "77/77 [==============================] - 8s 104ms/step - loss: 0.0024 - accuracy: 0.9997 - val_loss: 0.4324 - val_accuracy: 0.9118\n",
            "Epoch 67/100\n",
            "77/77 [==============================] - 8s 105ms/step - loss: 0.0079 - accuracy: 0.9989 - val_loss: 0.4820 - val_accuracy: 0.9036\n",
            "Epoch 68/100\n",
            "77/77 [==============================] - 8s 106ms/step - loss: 0.0097 - accuracy: 0.9974 - val_loss: 0.4591 - val_accuracy: 0.9167\n",
            "Epoch 69/100\n",
            "77/77 [==============================] - 8s 106ms/step - loss: 0.0042 - accuracy: 0.9988 - val_loss: 0.4496 - val_accuracy: 0.9150\n",
            "Epoch 70/100\n",
            "77/77 [==============================] - 8s 105ms/step - loss: 0.0030 - accuracy: 0.9994 - val_loss: 0.4842 - val_accuracy: 0.9183\n",
            "Epoch 71/100\n",
            "77/77 [==============================] - 8s 107ms/step - loss: 0.0040 - accuracy: 0.9983 - val_loss: 0.4896 - val_accuracy: 0.9134\n",
            "Epoch 72/100\n",
            "77/77 [==============================] - 8s 102ms/step - loss: 0.0036 - accuracy: 0.9989 - val_loss: 0.4830 - val_accuracy: 0.9167\n",
            "Epoch 73/100\n",
            "77/77 [==============================] - 8s 102ms/step - loss: 0.0127 - accuracy: 0.9946 - val_loss: 0.4536 - val_accuracy: 0.9150\n",
            "Epoch 74/100\n",
            "77/77 [==============================] - 8s 104ms/step - loss: 0.0018 - accuracy: 0.9999 - val_loss: 0.4521 - val_accuracy: 0.9118\n",
            "Epoch 75/100\n",
            "77/77 [==============================] - 8s 104ms/step - loss: 0.0043 - accuracy: 0.9993 - val_loss: 0.4449 - val_accuracy: 0.9183\n",
            "Epoch 76/100\n",
            "77/77 [==============================] - 8s 103ms/step - loss: 0.0042 - accuracy: 0.9986 - val_loss: 0.4554 - val_accuracy: 0.9150\n",
            "Epoch 77/100\n",
            "77/77 [==============================] - 8s 103ms/step - loss: 0.0044 - accuracy: 0.9989 - val_loss: 0.4598 - val_accuracy: 0.9167\n",
            "Epoch 78/100\n",
            "77/77 [==============================] - 8s 104ms/step - loss: 0.0037 - accuracy: 0.9993 - val_loss: 0.4719 - val_accuracy: 0.9118\n",
            "Epoch 79/100\n",
            "77/77 [==============================] - 8s 104ms/step - loss: 0.0020 - accuracy: 0.9998 - val_loss: 0.4546 - val_accuracy: 0.9134\n",
            "Epoch 80/100\n",
            "77/77 [==============================] - 8s 103ms/step - loss: 0.0044 - accuracy: 0.9987 - val_loss: 0.4665 - val_accuracy: 0.9167\n",
            "Epoch 81/100\n",
            "77/77 [==============================] - 8s 104ms/step - loss: 0.0023 - accuracy: 1.0000 - val_loss: 0.4598 - val_accuracy: 0.9085\n",
            "Epoch 82/100\n",
            "77/77 [==============================] - 8s 104ms/step - loss: 0.0023 - accuracy: 1.0000 - val_loss: 0.4511 - val_accuracy: 0.9150\n",
            "Epoch 83/100\n",
            "77/77 [==============================] - 8s 103ms/step - loss: 0.0017 - accuracy: 0.9999 - val_loss: 0.4908 - val_accuracy: 0.9167\n",
            "Epoch 84/100\n",
            "77/77 [==============================] - 8s 104ms/step - loss: 0.0071 - accuracy: 0.9968 - val_loss: 0.4717 - val_accuracy: 0.9134\n",
            "Epoch 85/100\n",
            "77/77 [==============================] - 8s 104ms/step - loss: 0.0029 - accuracy: 0.9994 - val_loss: 0.4704 - val_accuracy: 0.9134\n",
            "Epoch 86/100\n",
            "77/77 [==============================] - 8s 104ms/step - loss: 0.0019 - accuracy: 1.0000 - val_loss: 0.4699 - val_accuracy: 0.9101\n",
            "Epoch 87/100\n",
            "77/77 [==============================] - 8s 104ms/step - loss: 0.0035 - accuracy: 0.9991 - val_loss: 0.4768 - val_accuracy: 0.9150\n",
            "Epoch 88/100\n",
            "77/77 [==============================] - 8s 102ms/step - loss: 0.0054 - accuracy: 0.9987 - val_loss: 0.4783 - val_accuracy: 0.9150\n",
            "Epoch 89/100\n",
            "77/77 [==============================] - 8s 103ms/step - loss: 0.0030 - accuracy: 0.9993 - val_loss: 0.5037 - val_accuracy: 0.9085\n",
            "Epoch 90/100\n",
            "77/77 [==============================] - 8s 106ms/step - loss: 0.0034 - accuracy: 0.9988 - val_loss: 0.5126 - val_accuracy: 0.9167\n",
            "Epoch 91/100\n",
            "77/77 [==============================] - 8s 105ms/step - loss: 0.0018 - accuracy: 1.0000 - val_loss: 0.4957 - val_accuracy: 0.9118\n",
            "Epoch 92/100\n",
            "77/77 [==============================] - 8s 103ms/step - loss: 0.0029 - accuracy: 0.9992 - val_loss: 0.4671 - val_accuracy: 0.9118\n",
            "Epoch 93/100\n",
            "77/77 [==============================] - 8s 105ms/step - loss: 0.0015 - accuracy: 0.9998 - val_loss: 0.5040 - val_accuracy: 0.9052\n",
            "Epoch 94/100\n",
            "77/77 [==============================] - 8s 102ms/step - loss: 0.0029 - accuracy: 0.9996 - val_loss: 0.5081 - val_accuracy: 0.9085\n",
            "Epoch 95/100\n",
            "77/77 [==============================] - 8s 103ms/step - loss: 0.0052 - accuracy: 0.9984 - val_loss: 0.5121 - val_accuracy: 0.9167\n",
            "Epoch 96/100\n",
            "77/77 [==============================] - 8s 105ms/step - loss: 0.0043 - accuracy: 0.9983 - val_loss: 0.4965 - val_accuracy: 0.9150\n",
            "Epoch 97/100\n",
            "77/77 [==============================] - 8s 102ms/step - loss: 0.0026 - accuracy: 0.9996 - val_loss: 0.5022 - val_accuracy: 0.9118\n",
            "Epoch 98/100\n",
            "77/77 [==============================] - 8s 104ms/step - loss: 0.0032 - accuracy: 0.9986 - val_loss: 0.4725 - val_accuracy: 0.9118\n",
            "Epoch 99/100\n",
            "77/77 [==============================] - 8s 103ms/step - loss: 0.0012 - accuracy: 1.0000 - val_loss: 0.5157 - val_accuracy: 0.9085\n",
            "Epoch 100/100\n",
            "77/77 [==============================] - 8s 104ms/step - loss: 0.0122 - accuracy: 0.9968 - val_loss: 0.5052 - val_accuracy: 0.9085\n"
          ],
          "name": "stdout"
        }
      ]
    },
    {
      "cell_type": "code",
      "metadata": {
        "id": "4vyu5mytJTTF",
        "colab": {
          "base_uri": "https://localhost:8080/"
        },
        "outputId": "3e08f793-b120-4b4c-ecc5-bd10b24feac0"
      },
      "source": [
        "import keras\n",
        "from matplotlib import pyplot as plt\n",
        "\n",
        "plt.figure(figsize=(20,10))\n",
        "plt.plot(history.history['accuracy'], label='Training Acc')\n",
        "plt.plot(history.history['val_accuracy'],label='Testing Acc')\n",
        "plt.xlabel('Epoch')\n",
        "plt.ylabel('Accuracy')\n",
        "plt.ylim([0.5,1])\n",
        "plt.legend(loc='lower_right')\n",
        "\n",
        "test_loss, test_acc = model.evaluate(test_flow)"
      ],
      "execution_count": null,
      "outputs": [
        {
          "output_type": "stream",
          "text": [
            "/usr/local/lib/python3.7/dist-packages/ipykernel_launcher.py:10: MatplotlibDeprecationWarning: Unrecognized location 'lower_right'. Falling back on 'best'; valid locations are\n",
            "\tbest\n",
            "\tupper right\n",
            "\tupper left\n",
            "\tlower left\n",
            "\tlower right\n",
            "\tright\n",
            "\tcenter left\n",
            "\tcenter right\n",
            "\tlower center\n",
            "\tupper center\n",
            "\tcenter\n",
            "This will raise an exception in 3.3.\n",
            "  # Remove the CWD from sys.path while we load stuff.\n"
          ],
          "name": "stderr"
        },
        {
          "output_type": "stream",
          "text": [
            "191/191 [==============================] - 17s 87ms/step - loss: 0.6126 - accuracy: 0.8966\n"
          ],
          "name": "stdout"
        },
        {
          "output_type": "display_data",
          "data": {
            "image/png": "[encoded data removed]",
            "text/plain": [
              "<Figure size 1440x720 with 1 Axes>"
            ]
          },
          "metadata": {
            "tags": [],
            "needs_background": "light"
          }
        }
      ]
    },
    {
      "cell_type": "code",
      "metadata": {
        "id": "6rY7E-JjVP2Y",
        "colab": {
          "base_uri": "https://localhost:8080/"
        },
        "outputId": "d0d532f3-9e97-495d-a1cc-43bb572fd56b"
      },
      "source": [
        "import keras\n",
        "from matplotlib import pyplot as plt\n",
        "\n",
        "plt.plot(history.history['accuracy'])\n",
        "plt.plot(history.history['val_accuracy'])\n",
        "plt.title('model accuracy')\n",
        "plt.ylabel('accuracy')\n",
        "plt.xlabel('epoch')\n",
        "plt.legend(['train', 'val'], loc='upper left')\n",
        "plt.show()\n",
        "plt.savefig(\"performance_caltech101.png\")"
      ],
      "execution_count": null,
      "outputs": [
        {
          "output_type": "display_data",
          "data": {
            "image/png": "[encoded data removed]",
            "text/plain": [
              "<Figure size 432x288 with 1 Axes>"
            ]
          },
          "metadata": {
            "tags": [],
            "needs_background": "light"
          }
        },
        {
          "output_type": "display_data",
          "data": {
            "text/plain": [
              "<Figure size 432x288 with 0 Axes>"
            ]
          },
          "metadata": {
            "tags": []
          }
        }
      ]
    }
  ]
}
