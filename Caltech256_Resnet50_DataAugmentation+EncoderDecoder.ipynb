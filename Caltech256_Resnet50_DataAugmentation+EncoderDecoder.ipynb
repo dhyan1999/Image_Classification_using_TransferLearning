{
  "nbformat": 4,
  "nbformat_minor": 0,
  "metadata": {
    "colab": {
      "name": "Caltech256_Resnet50_DataAugmentation+EncoderDecoder.ipynb",
      "provenance": [],
      "collapsed_sections": [],
      "machine_shape": "hm",
      "include_colab_link": true
    },
    "kernelspec": {
      "name": "python3",
      "display_name": "Python 3"
    },
    "accelerator": "GPU"
  },
  "cells": [
    {
      "cell_type": "markdown",
      "metadata": {
        "id": "view-in-github",
        "colab_type": "text"
      },
      "source": [
        "<a href=\"https://colab.research.google.com/github/dhyan1999/DL_ML/blob/master/Caltech256_Resnet50_DataAugmentation%2BEncoderDecoder.ipynb\" target=\"_parent\"><img src=\"https://colab.research.google.com/assets/colab-badge.svg\" alt=\"Open In Colab\"/></a>"
      ]
    },
    {
      "cell_type": "code",
      "metadata": {
        "id": "IbcWWCZixGLo"
      },
      "source": [
        "from keras.preprocessing.image import ImageDataGenerator"
      ],
      "execution_count": null,
      "outputs": []
    },
    {
      "cell_type": "code",
      "metadata": {
        "colab": {
          "base_uri": "https://localhost:8080/"
        },
        "id": "F59AQW6akHGr",
        "outputId": "10d689aa-aec7-4516-8af9-8d481e3f6bd8"
      },
      "source": [
        "from google.colab import drive\n",
        "drive.mount('/content/drive')"
      ],
      "execution_count": null,
      "outputs": [
        {
          "output_type": "stream",
          "text": [
            "Mounted at /content/drive\n"
          ],
          "name": "stdout"
        }
      ]
    },
    {
      "cell_type": "code",
      "metadata": {
        "colab": {
          "base_uri": "https://localhost:8080/"
        },
        "id": "VtrkBBLOkG7M",
        "outputId": "2ad25397-df9d-4eb0-e9cf-acdf5323f92b"
      },
      "source": [
        "!pip install patool pyunpack\n",
        "import pyunpack\n",
        "pyunpack.Archive(\"/content/drive/MyDrive/Caltech256.rar\").extractall(\"/content/dataset\")"
      ],
      "execution_count": null,
      "outputs": [
        {
          "output_type": "stream",
          "text": [
            "Collecting patool\n",
            "\u001b[?25l  Downloading https://files.pythonhosted.org/packages/43/94/52243ddff508780dd2d8110964320ab4851134a55ab102285b46e740f76a/patool-1.12-py2.py3-none-any.whl (77kB)\n",
            "\r\u001b[K     |████▎                           | 10kB 19.8MB/s eta 0:00:01\r\u001b[K     |████████▌                       | 20kB 20.2MB/s eta 0:00:01\r\u001b[K     |████████████▊                   | 30kB 10.8MB/s eta 0:00:01\r\u001b[K     |█████████████████               | 40kB 8.9MB/s eta 0:00:01\r\u001b[K     |█████████████████████▏          | 51kB 4.2MB/s eta 0:00:01\r\u001b[K     |█████████████████████████▍      | 61kB 4.8MB/s eta 0:00:01\r\u001b[K     |█████████████████████████████▋  | 71kB 4.9MB/s eta 0:00:01\r\u001b[K     |████████████████████████████████| 81kB 3.8MB/s \n",
            "\u001b[?25hCollecting pyunpack\n",
            "  Downloading https://files.pythonhosted.org/packages/83/29/020436b1d8e96e5f26fa282b9c3c13a3b456a36b9ea2edc87c5fed008369/pyunpack-0.2.2-py2.py3-none-any.whl\n",
            "Collecting easyprocess\n",
            "  Downloading https://files.pythonhosted.org/packages/48/3c/75573613641c90c6d094059ac28adb748560d99bd27ee6f80cce398f404e/EasyProcess-0.3-py2.py3-none-any.whl\n",
            "Collecting entrypoint2\n",
            "  Downloading https://files.pythonhosted.org/packages/8a/b0/8ef4b1d8be02448d164c52466530059d7f57218655d21309a0c4236d7454/entrypoint2-0.2.4-py3-none-any.whl\n",
            "Installing collected packages: patool, easyprocess, entrypoint2, pyunpack\n",
            "Successfully installed easyprocess-0.3 entrypoint2-0.2.4 patool-1.12 pyunpack-0.2.2\n"
          ],
          "name": "stdout"
        }
      ]
    },
    {
      "cell_type": "code",
      "metadata": {
        "id": "1zVg9pQCUVjO"
      },
      "source": [
        "import os\n",
        "import math\n",
        "\n",
        "os.mkdir(\"caltech_test\") \n",
        "\n",
        "for cat in os.listdir(\"/content/dataset/Caltech256/\"):\n",
        "  imgs = os.listdir(\"/content/dataset/Caltech256/\"+cat) \n",
        "  test_imgs = imgs[30:len(imgs)]\n",
        "  for t_img in test_imgs: \n",
        "    os.rename(\"/content/dataset/Caltech256/\"+cat+\"/\"+t_img, \"caltech_test/\"+cat+\"/\"+t_img)"
      ],
      "execution_count": null,
      "outputs": []
    },
    {
      "cell_type": "code",
      "metadata": {
        "id": "Zf363T2k3Ac6"
      },
      "source": [
        "def fixed_generator(generator):\n",
        "    for batch in generator:\n",
        "        yield (batch, batch)"
      ],
      "execution_count": null,
      "outputs": []
    },
    {
      "cell_type": "markdown",
      "metadata": {
        "id": "RmJGh0GGWkXk"
      },
      "source": [
        "**Preparing data for feature extraction**"
      ]
    },
    {
      "cell_type": "code",
      "metadata": {
        "id": "kdgslrt8UYvz",
        "colab": {
          "base_uri": "https://localhost:8080/"
        },
        "outputId": "1447bb27-9c23-4ca6-c766-3cf6fe9ea238"
      },
      "source": [
        "# import cv2\n",
        "from keras.applications.resnet50 import preprocess_input \n",
        "from keras.preprocessing.image import ImageDataGenerator\n",
        "train_gen_autoencoder = ImageDataGenerator(rescale=1./255) \n",
        "train_flow = train_gen_autoencoder.flow_from_directory(\"/content/dataset/Caltech256/\", target_size=(256, 256), batch_size=60,class_mode=None)\n",
        "valid_flow = train_gen_autoencoder.flow_from_directory(\"caltech_test/\", target_size=(256, 256), batch_size=60,class_mode=None)"
      ],
      "execution_count": null,
      "outputs": [
        {
          "output_type": "stream",
          "text": [
            "Found 7680 images belonging to 256 classes.\n",
            "Found 22100 images belonging to 256 classes.\n"
          ],
          "name": "stdout"
        }
      ]
    },
    {
      "cell_type": "markdown",
      "metadata": {
        "id": "k72YmIkNXMyZ"
      },
      "source": [
        "**Importing necessary library**"
      ]
    },
    {
      "cell_type": "code",
      "metadata": {
        "id": "KMnbi4f3UjCC"
      },
      "source": [
        "from tensorflow.keras.applications.resnet50 import ResNet50, preprocess_input\n",
        "import tensorflow.keras as keras\n",
        "from tensorflow.keras import models\n",
        "from tensorflow.keras import layers\n",
        "from tensorflow.keras import optimizers\n",
        "import tensorflow as tf\n",
        "from keras.utils import np_utils\n",
        "from keras.models import load_model\n",
        "from keras.datasets import cifar10\n",
        "from keras.preprocessing import image\n",
        "import numpy as np\n",
        "import matplotlib.pyplot as plt\n",
        "from PIL import Image\n",
        "import cv2"
      ],
      "execution_count": null,
      "outputs": []
    },
    {
      "cell_type": "code",
      "metadata": {
        "id": "Ky23DnIzUjoh"
      },
      "source": [
        "model = models.Sequential()\n",
        "\n",
        "# Encoder layer\n",
        "model.add(layers.Conv2D(32, (3, 3), activation='relu', padding='same'))\n",
        "model.add(layers.MaxPooling2D((2, 2), padding='same') )\n",
        "\n",
        "# Decoder Layer\n",
        "model.add(layers.Conv2D(32, (3, 3), activation='relu', padding='same'))\n",
        "model.add(layers.UpSampling2D((2, 2)) )\n",
        "\n",
        "model.add(layers.Conv2D(1, (3, 3), activation='sigmoid', padding='same') )\n",
        "\n",
        "model.compile(optimizer='adadelta', loss='binary_crossentropy')"
      ],
      "execution_count": null,
      "outputs": []
    },
    {
      "cell_type": "code",
      "metadata": {
        "id": "48S4JkL4UnbT",
        "colab": {
          "base_uri": "https://localhost:8080/"
        },
        "outputId": "f325c56b-fd9b-442b-9df2-960b60d4a2d9"
      },
      "source": [
        "model.fit_generator(fixed_generator(train_flow), epochs=5,steps_per_epoch=7710//128, validation_steps=22897//128,validation_data = fixed_generator(valid_flow) )"
      ],
      "execution_count": null,
      "outputs": [
        {
          "output_type": "stream",
          "text": [
            "/usr/local/lib/python3.7/dist-packages/tensorflow/python/keras/engine/training.py:1844: UserWarning: `Model.fit_generator` is deprecated and will be removed in a future version. Please use `Model.fit`, which supports generators.\n",
            "  warnings.warn('`Model.fit_generator` is deprecated and '\n"
          ],
          "name": "stderr"
        },
        {
          "output_type": "stream",
          "text": [
            "Epoch 1/5\n",
            "60/60 [==============================] - 48s 789ms/step - loss: 0.7315 - val_loss: 0.7285\n",
            "Epoch 2/5\n",
            "60/60 [==============================] - 49s 834ms/step - loss: 0.7280 - val_loss: 0.7255\n",
            "Epoch 3/5\n",
            "60/60 [==============================] - 47s 800ms/step - loss: 0.7251 - val_loss: 0.7223\n",
            "Epoch 4/5\n",
            "60/60 [==============================] - 49s 832ms/step - loss: 0.7219 - val_loss: 0.7199\n",
            "Epoch 5/5\n",
            "60/60 [==============================] - 48s 820ms/step - loss: 0.7192 - val_loss: 0.7168\n"
          ],
          "name": "stdout"
        },
        {
          "output_type": "execute_result",
          "data": {
            "text/plain": [
              "<tensorflow.python.keras.callbacks.History at 0x7f093043ff90>"
            ]
          },
          "metadata": {
            "tags": []
          },
          "execution_count": 9
        }
      ]
    },
    {
      "cell_type": "code",
      "metadata": {
        "id": "tzOyFuf1UwWd",
        "colab": {
          "base_uri": "https://localhost:8080/"
        },
        "outputId": "341515b7-295f-4fc2-bda1-aeead4bd5c8c"
      },
      "source": [
        "from keras.applications.resnet50 import preprocess_input # make sure to match original model's preprocessing function\n",
        "\n",
        "train_gen = ImageDataGenerator(validation_split=0.2, preprocessing_function=preprocess_input)\n",
        "train_flow = train_gen.flow_from_directory(\"/content/dataset/Caltech256/\", target_size=(256, 256), batch_size=130, subset=\"training\")\n",
        "valid_flow = train_gen.flow_from_directory(\"/content/dataset/Caltech256/\", target_size=(256, 256), batch_size=130, subset=\"validation\")"
      ],
      "execution_count": null,
      "outputs": [
        {
          "output_type": "stream",
          "text": [
            "Found 6144 images belonging to 256 classes.\n",
            "Found 1536 images belonging to 256 classes.\n"
          ],
          "name": "stdout"
        }
      ]
    },
    {
      "cell_type": "code",
      "metadata": {
        "id": "O2iqp6RMU1Xm",
        "colab": {
          "base_uri": "https://localhost:8080/"
        },
        "outputId": "e635ad2f-5c18-46d5-850e-f5b09a0a8c19"
      },
      "source": [
        "test_gen = ImageDataGenerator(preprocessing_function=preprocess_input)\n",
        "test_flow = test_gen.flow_from_directory(\"caltech_test\", target_size=(256, 256), batch_size=30)"
      ],
      "execution_count": null,
      "outputs": [
        {
          "output_type": "stream",
          "text": [
            "Found 22100 images belonging to 256 classes.\n"
          ],
          "name": "stdout"
        }
      ]
    },
    {
      "cell_type": "code",
      "metadata": {
        "id": "F_frC2j9U9vm",
        "colab": {
          "base_uri": "https://localhost:8080/"
        },
        "outputId": "86a9d5cd-1fb2-4845-e351-b07f4396d720"
      },
      "source": [
        "from keras.applications.resnet50 import ResNet50\n",
        "from keras.layers import GlobalAveragePooling2D, BatchNormalization, Dropout, Dense\n",
        "from keras.models import Model\n",
        "\n",
        "\n",
        "res = ResNet50(weights='imagenet', include_top=False, input_shape=(256, 256, 3)) \n",
        "\n",
        "for layer in res.layers: \n",
        "  layer.trainable = False\n",
        "\n",
        "x = res.output \n",
        "x = GlobalAveragePooling2D()(x)\n",
        "x = BatchNormalization()(x)\n",
        "x = Dropout(0.5)(x)\n",
        "x = Dense(512, activation='relu')(x)\n",
        "x = BatchNormalization()(x)\n",
        "x = Dropout(0.5)(x)\n",
        "x = Dense(256, activation='softmax')(x)\n",
        "\n",
        "model = Model(res.input, x) \n",
        "opt = tf.keras.optimizers.RMSprop(\n",
        "    learning_rate=0.001,\n",
        "    rho=0.9,\n",
        "    momentum=0.0,\n",
        "    epsilon=1e-07,\n",
        "    centered=False,\n",
        "    name=\"RMSprop\"\n",
        ")\n",
        "model.compile(optimizer=opt, loss='categorical_crossentropy', metrics=['accuracy']) \n",
        "\n",
        "model.summary() "
      ],
      "execution_count": null,
      "outputs": [
        {
          "output_type": "stream",
          "text": [
            "Downloading data from https://storage.googleapis.com/tensorflow/keras-applications/resnet/resnet50_weights_tf_dim_ordering_tf_kernels_notop.h5\n",
            "94773248/94765736 [==============================] - 2s 0us/step\n",
            "Model: \"model\"\n",
            "__________________________________________________________________________________________________\n",
            "Layer (type)                    Output Shape         Param #     Connected to                     \n",
            "==================================================================================================\n",
            "input_1 (InputLayer)            [(None, 256, 256, 3) 0                                            \n",
            "__________________________________________________________________________________________________\n",
            "conv1_pad (ZeroPadding2D)       (None, 262, 262, 3)  0           input_1[0][0]                    \n",
            "__________________________________________________________________________________________________\n",
            "conv1_conv (Conv2D)             (None, 128, 128, 64) 9472        conv1_pad[0][0]                  \n",
            "__________________________________________________________________________________________________\n",
            "conv1_bn (BatchNormalization)   (None, 128, 128, 64) 256         conv1_conv[0][0]                 \n",
            "__________________________________________________________________________________________________\n",
            "conv1_relu (Activation)         (None, 128, 128, 64) 0           conv1_bn[0][0]                   \n",
            "__________________________________________________________________________________________________\n",
            "pool1_pad (ZeroPadding2D)       (None, 130, 130, 64) 0           conv1_relu[0][0]                 \n",
            "__________________________________________________________________________________________________\n",
            "pool1_pool (MaxPooling2D)       (None, 64, 64, 64)   0           pool1_pad[0][0]                  \n",
            "__________________________________________________________________________________________________\n",
            "conv2_block1_1_conv (Conv2D)    (None, 64, 64, 64)   4160        pool1_pool[0][0]                 \n",
            "__________________________________________________________________________________________________\n",
            "conv2_block1_1_bn (BatchNormali (None, 64, 64, 64)   256         conv2_block1_1_conv[0][0]        \n",
            "__________________________________________________________________________________________________\n",
            "conv2_block1_1_relu (Activation (None, 64, 64, 64)   0           conv2_block1_1_bn[0][0]          \n",
            "__________________________________________________________________________________________________\n",
            "conv2_block1_2_conv (Conv2D)    (None, 64, 64, 64)   36928       conv2_block1_1_relu[0][0]        \n",
            "__________________________________________________________________________________________________\n",
            "conv2_block1_2_bn (BatchNormali (None, 64, 64, 64)   256         conv2_block1_2_conv[0][0]        \n",
            "__________________________________________________________________________________________________\n",
            "conv2_block1_2_relu (Activation (None, 64, 64, 64)   0           conv2_block1_2_bn[0][0]          \n",
            "__________________________________________________________________________________________________\n",
            "conv2_block1_0_conv (Conv2D)    (None, 64, 64, 256)  16640       pool1_pool[0][0]                 \n",
            "__________________________________________________________________________________________________\n",
            "conv2_block1_3_conv (Conv2D)    (None, 64, 64, 256)  16640       conv2_block1_2_relu[0][0]        \n",
            "__________________________________________________________________________________________________\n",
            "conv2_block1_0_bn (BatchNormali (None, 64, 64, 256)  1024        conv2_block1_0_conv[0][0]        \n",
            "__________________________________________________________________________________________________\n",
            "conv2_block1_3_bn (BatchNormali (None, 64, 64, 256)  1024        conv2_block1_3_conv[0][0]        \n",
            "__________________________________________________________________________________________________\n",
            "conv2_block1_add (Add)          (None, 64, 64, 256)  0           conv2_block1_0_bn[0][0]          \n",
            "                                                                 conv2_block1_3_bn[0][0]          \n",
            "__________________________________________________________________________________________________\n",
            "conv2_block1_out (Activation)   (None, 64, 64, 256)  0           conv2_block1_add[0][0]           \n",
            "__________________________________________________________________________________________________\n",
            "conv2_block2_1_conv (Conv2D)    (None, 64, 64, 64)   16448       conv2_block1_out[0][0]           \n",
            "__________________________________________________________________________________________________\n",
            "conv2_block2_1_bn (BatchNormali (None, 64, 64, 64)   256         conv2_block2_1_conv[0][0]        \n",
            "__________________________________________________________________________________________________\n",
            "conv2_block2_1_relu (Activation (None, 64, 64, 64)   0           conv2_block2_1_bn[0][0]          \n",
            "__________________________________________________________________________________________________\n",
            "conv2_block2_2_conv (Conv2D)    (None, 64, 64, 64)   36928       conv2_block2_1_relu[0][0]        \n",
            "__________________________________________________________________________________________________\n",
            "conv2_block2_2_bn (BatchNormali (None, 64, 64, 64)   256         conv2_block2_2_conv[0][0]        \n",
            "__________________________________________________________________________________________________\n",
            "conv2_block2_2_relu (Activation (None, 64, 64, 64)   0           conv2_block2_2_bn[0][0]          \n",
            "__________________________________________________________________________________________________\n",
            "conv2_block2_3_conv (Conv2D)    (None, 64, 64, 256)  16640       conv2_block2_2_relu[0][0]        \n",
            "__________________________________________________________________________________________________\n",
            "conv2_block2_3_bn (BatchNormali (None, 64, 64, 256)  1024        conv2_block2_3_conv[0][0]        \n",
            "__________________________________________________________________________________________________\n",
            "conv2_block2_add (Add)          (None, 64, 64, 256)  0           conv2_block1_out[0][0]           \n",
            "                                                                 conv2_block2_3_bn[0][0]          \n",
            "__________________________________________________________________________________________________\n",
            "conv2_block2_out (Activation)   (None, 64, 64, 256)  0           conv2_block2_add[0][0]           \n",
            "__________________________________________________________________________________________________\n",
            "conv2_block3_1_conv (Conv2D)    (None, 64, 64, 64)   16448       conv2_block2_out[0][0]           \n",
            "__________________________________________________________________________________________________\n",
            "conv2_block3_1_bn (BatchNormali (None, 64, 64, 64)   256         conv2_block3_1_conv[0][0]        \n",
            "__________________________________________________________________________________________________\n",
            "conv2_block3_1_relu (Activation (None, 64, 64, 64)   0           conv2_block3_1_bn[0][0]          \n",
            "__________________________________________________________________________________________________\n",
            "conv2_block3_2_conv (Conv2D)    (None, 64, 64, 64)   36928       conv2_block3_1_relu[0][0]        \n",
            "__________________________________________________________________________________________________\n",
            "conv2_block3_2_bn (BatchNormali (None, 64, 64, 64)   256         conv2_block3_2_conv[0][0]        \n",
            "__________________________________________________________________________________________________\n",
            "conv2_block3_2_relu (Activation (None, 64, 64, 64)   0           conv2_block3_2_bn[0][0]          \n",
            "__________________________________________________________________________________________________\n",
            "conv2_block3_3_conv (Conv2D)    (None, 64, 64, 256)  16640       conv2_block3_2_relu[0][0]        \n",
            "__________________________________________________________________________________________________\n",
            "conv2_block3_3_bn (BatchNormali (None, 64, 64, 256)  1024        conv2_block3_3_conv[0][0]        \n",
            "__________________________________________________________________________________________________\n",
            "conv2_block3_add (Add)          (None, 64, 64, 256)  0           conv2_block2_out[0][0]           \n",
            "                                                                 conv2_block3_3_bn[0][0]          \n",
            "__________________________________________________________________________________________________\n",
            "conv2_block3_out (Activation)   (None, 64, 64, 256)  0           conv2_block3_add[0][0]           \n",
            "__________________________________________________________________________________________________\n",
            "conv3_block1_1_conv (Conv2D)    (None, 32, 32, 128)  32896       conv2_block3_out[0][0]           \n",
            "__________________________________________________________________________________________________\n",
            "conv3_block1_1_bn (BatchNormali (None, 32, 32, 128)  512         conv3_block1_1_conv[0][0]        \n",
            "__________________________________________________________________________________________________\n",
            "conv3_block1_1_relu (Activation (None, 32, 32, 128)  0           conv3_block1_1_bn[0][0]          \n",
            "__________________________________________________________________________________________________\n",
            "conv3_block1_2_conv (Conv2D)    (None, 32, 32, 128)  147584      conv3_block1_1_relu[0][0]        \n",
            "__________________________________________________________________________________________________\n",
            "conv3_block1_2_bn (BatchNormali (None, 32, 32, 128)  512         conv3_block1_2_conv[0][0]        \n",
            "__________________________________________________________________________________________________\n",
            "conv3_block1_2_relu (Activation (None, 32, 32, 128)  0           conv3_block1_2_bn[0][0]          \n",
            "__________________________________________________________________________________________________\n",
            "conv3_block1_0_conv (Conv2D)    (None, 32, 32, 512)  131584      conv2_block3_out[0][0]           \n",
            "__________________________________________________________________________________________________\n",
            "conv3_block1_3_conv (Conv2D)    (None, 32, 32, 512)  66048       conv3_block1_2_relu[0][0]        \n",
            "__________________________________________________________________________________________________\n",
            "conv3_block1_0_bn (BatchNormali (None, 32, 32, 512)  2048        conv3_block1_0_conv[0][0]        \n",
            "__________________________________________________________________________________________________\n",
            "conv3_block1_3_bn (BatchNormali (None, 32, 32, 512)  2048        conv3_block1_3_conv[0][0]        \n",
            "__________________________________________________________________________________________________\n",
            "conv3_block1_add (Add)          (None, 32, 32, 512)  0           conv3_block1_0_bn[0][0]          \n",
            "                                                                 conv3_block1_3_bn[0][0]          \n",
            "__________________________________________________________________________________________________\n",
            "conv3_block1_out (Activation)   (None, 32, 32, 512)  0           conv3_block1_add[0][0]           \n",
            "__________________________________________________________________________________________________\n",
            "conv3_block2_1_conv (Conv2D)    (None, 32, 32, 128)  65664       conv3_block1_out[0][0]           \n",
            "__________________________________________________________________________________________________\n",
            "conv3_block2_1_bn (BatchNormali (None, 32, 32, 128)  512         conv3_block2_1_conv[0][0]        \n",
            "__________________________________________________________________________________________________\n",
            "conv3_block2_1_relu (Activation (None, 32, 32, 128)  0           conv3_block2_1_bn[0][0]          \n",
            "__________________________________________________________________________________________________\n",
            "conv3_block2_2_conv (Conv2D)    (None, 32, 32, 128)  147584      conv3_block2_1_relu[0][0]        \n",
            "__________________________________________________________________________________________________\n",
            "conv3_block2_2_bn (BatchNormali (None, 32, 32, 128)  512         conv3_block2_2_conv[0][0]        \n",
            "__________________________________________________________________________________________________\n",
            "conv3_block2_2_relu (Activation (None, 32, 32, 128)  0           conv3_block2_2_bn[0][0]          \n",
            "__________________________________________________________________________________________________\n",
            "conv3_block2_3_conv (Conv2D)    (None, 32, 32, 512)  66048       conv3_block2_2_relu[0][0]        \n",
            "__________________________________________________________________________________________________\n",
            "conv3_block2_3_bn (BatchNormali (None, 32, 32, 512)  2048        conv3_block2_3_conv[0][0]        \n",
            "__________________________________________________________________________________________________\n",
            "conv3_block2_add (Add)          (None, 32, 32, 512)  0           conv3_block1_out[0][0]           \n",
            "                                                                 conv3_block2_3_bn[0][0]          \n",
            "__________________________________________________________________________________________________\n",
            "conv3_block2_out (Activation)   (None, 32, 32, 512)  0           conv3_block2_add[0][0]           \n",
            "__________________________________________________________________________________________________\n",
            "conv3_block3_1_conv (Conv2D)    (None, 32, 32, 128)  65664       conv3_block2_out[0][0]           \n",
            "__________________________________________________________________________________________________\n",
            "conv3_block3_1_bn (BatchNormali (None, 32, 32, 128)  512         conv3_block3_1_conv[0][0]        \n",
            "__________________________________________________________________________________________________\n",
            "conv3_block3_1_relu (Activation (None, 32, 32, 128)  0           conv3_block3_1_bn[0][0]          \n",
            "__________________________________________________________________________________________________\n",
            "conv3_block3_2_conv (Conv2D)    (None, 32, 32, 128)  147584      conv3_block3_1_relu[0][0]        \n",
            "__________________________________________________________________________________________________\n",
            "conv3_block3_2_bn (BatchNormali (None, 32, 32, 128)  512         conv3_block3_2_conv[0][0]        \n",
            "__________________________________________________________________________________________________\n",
            "conv3_block3_2_relu (Activation (None, 32, 32, 128)  0           conv3_block3_2_bn[0][0]          \n",
            "__________________________________________________________________________________________________\n",
            "conv3_block3_3_conv (Conv2D)    (None, 32, 32, 512)  66048       conv3_block3_2_relu[0][0]        \n",
            "__________________________________________________________________________________________________\n",
            "conv3_block3_3_bn (BatchNormali (None, 32, 32, 512)  2048        conv3_block3_3_conv[0][0]        \n",
            "__________________________________________________________________________________________________\n",
            "conv3_block3_add (Add)          (None, 32, 32, 512)  0           conv3_block2_out[0][0]           \n",
            "                                                                 conv3_block3_3_bn[0][0]          \n",
            "__________________________________________________________________________________________________\n",
            "conv3_block3_out (Activation)   (None, 32, 32, 512)  0           conv3_block3_add[0][0]           \n",
            "__________________________________________________________________________________________________\n",
            "conv3_block4_1_conv (Conv2D)    (None, 32, 32, 128)  65664       conv3_block3_out[0][0]           \n",
            "__________________________________________________________________________________________________\n",
            "conv3_block4_1_bn (BatchNormali (None, 32, 32, 128)  512         conv3_block4_1_conv[0][0]        \n",
            "__________________________________________________________________________________________________\n",
            "conv3_block4_1_relu (Activation (None, 32, 32, 128)  0           conv3_block4_1_bn[0][0]          \n",
            "__________________________________________________________________________________________________\n",
            "conv3_block4_2_conv (Conv2D)    (None, 32, 32, 128)  147584      conv3_block4_1_relu[0][0]        \n",
            "__________________________________________________________________________________________________\n",
            "conv3_block4_2_bn (BatchNormali (None, 32, 32, 128)  512         conv3_block4_2_conv[0][0]        \n",
            "__________________________________________________________________________________________________\n",
            "conv3_block4_2_relu (Activation (None, 32, 32, 128)  0           conv3_block4_2_bn[0][0]          \n",
            "__________________________________________________________________________________________________\n",
            "conv3_block4_3_conv (Conv2D)    (None, 32, 32, 512)  66048       conv3_block4_2_relu[0][0]        \n",
            "__________________________________________________________________________________________________\n",
            "conv3_block4_3_bn (BatchNormali (None, 32, 32, 512)  2048        conv3_block4_3_conv[0][0]        \n",
            "__________________________________________________________________________________________________\n",
            "conv3_block4_add (Add)          (None, 32, 32, 512)  0           conv3_block3_out[0][0]           \n",
            "                                                                 conv3_block4_3_bn[0][0]          \n",
            "__________________________________________________________________________________________________\n",
            "conv3_block4_out (Activation)   (None, 32, 32, 512)  0           conv3_block4_add[0][0]           \n",
            "__________________________________________________________________________________________________\n",
            "conv4_block1_1_conv (Conv2D)    (None, 16, 16, 256)  131328      conv3_block4_out[0][0]           \n",
            "__________________________________________________________________________________________________\n",
            "conv4_block1_1_bn (BatchNormali (None, 16, 16, 256)  1024        conv4_block1_1_conv[0][0]        \n",
            "__________________________________________________________________________________________________\n",
            "conv4_block1_1_relu (Activation (None, 16, 16, 256)  0           conv4_block1_1_bn[0][0]          \n",
            "__________________________________________________________________________________________________\n",
            "conv4_block1_2_conv (Conv2D)    (None, 16, 16, 256)  590080      conv4_block1_1_relu[0][0]        \n",
            "__________________________________________________________________________________________________\n",
            "conv4_block1_2_bn (BatchNormali (None, 16, 16, 256)  1024        conv4_block1_2_conv[0][0]        \n",
            "__________________________________________________________________________________________________\n",
            "conv4_block1_2_relu (Activation (None, 16, 16, 256)  0           conv4_block1_2_bn[0][0]          \n",
            "__________________________________________________________________________________________________\n",
            "conv4_block1_0_conv (Conv2D)    (None, 16, 16, 1024) 525312      conv3_block4_out[0][0]           \n",
            "__________________________________________________________________________________________________\n",
            "conv4_block1_3_conv (Conv2D)    (None, 16, 16, 1024) 263168      conv4_block1_2_relu[0][0]        \n",
            "__________________________________________________________________________________________________\n",
            "conv4_block1_0_bn (BatchNormali (None, 16, 16, 1024) 4096        conv4_block1_0_conv[0][0]        \n",
            "__________________________________________________________________________________________________\n",
            "conv4_block1_3_bn (BatchNormali (None, 16, 16, 1024) 4096        conv4_block1_3_conv[0][0]        \n",
            "__________________________________________________________________________________________________\n",
            "conv4_block1_add (Add)          (None, 16, 16, 1024) 0           conv4_block1_0_bn[0][0]          \n",
            "                                                                 conv4_block1_3_bn[0][0]          \n",
            "__________________________________________________________________________________________________\n",
            "conv4_block1_out (Activation)   (None, 16, 16, 1024) 0           conv4_block1_add[0][0]           \n",
            "__________________________________________________________________________________________________\n",
            "conv4_block2_1_conv (Conv2D)    (None, 16, 16, 256)  262400      conv4_block1_out[0][0]           \n",
            "__________________________________________________________________________________________________\n",
            "conv4_block2_1_bn (BatchNormali (None, 16, 16, 256)  1024        conv4_block2_1_conv[0][0]        \n",
            "__________________________________________________________________________________________________\n",
            "conv4_block2_1_relu (Activation (None, 16, 16, 256)  0           conv4_block2_1_bn[0][0]          \n",
            "__________________________________________________________________________________________________\n",
            "conv4_block2_2_conv (Conv2D)    (None, 16, 16, 256)  590080      conv4_block2_1_relu[0][0]        \n",
            "__________________________________________________________________________________________________\n",
            "conv4_block2_2_bn (BatchNormali (None, 16, 16, 256)  1024        conv4_block2_2_conv[0][0]        \n",
            "__________________________________________________________________________________________________\n",
            "conv4_block2_2_relu (Activation (None, 16, 16, 256)  0           conv4_block2_2_bn[0][0]          \n",
            "__________________________________________________________________________________________________\n",
            "conv4_block2_3_conv (Conv2D)    (None, 16, 16, 1024) 263168      conv4_block2_2_relu[0][0]        \n",
            "__________________________________________________________________________________________________\n",
            "conv4_block2_3_bn (BatchNormali (None, 16, 16, 1024) 4096        conv4_block2_3_conv[0][0]        \n",
            "__________________________________________________________________________________________________\n",
            "conv4_block2_add (Add)          (None, 16, 16, 1024) 0           conv4_block1_out[0][0]           \n",
            "                                                                 conv4_block2_3_bn[0][0]          \n",
            "__________________________________________________________________________________________________\n",
            "conv4_block2_out (Activation)   (None, 16, 16, 1024) 0           conv4_block2_add[0][0]           \n",
            "__________________________________________________________________________________________________\n",
            "conv4_block3_1_conv (Conv2D)    (None, 16, 16, 256)  262400      conv4_block2_out[0][0]           \n",
            "__________________________________________________________________________________________________\n",
            "conv4_block3_1_bn (BatchNormali (None, 16, 16, 256)  1024        conv4_block3_1_conv[0][0]        \n",
            "__________________________________________________________________________________________________\n",
            "conv4_block3_1_relu (Activation (None, 16, 16, 256)  0           conv4_block3_1_bn[0][0]          \n",
            "__________________________________________________________________________________________________\n",
            "conv4_block3_2_conv (Conv2D)    (None, 16, 16, 256)  590080      conv4_block3_1_relu[0][0]        \n",
            "__________________________________________________________________________________________________\n",
            "conv4_block3_2_bn (BatchNormali (None, 16, 16, 256)  1024        conv4_block3_2_conv[0][0]        \n",
            "__________________________________________________________________________________________________\n",
            "conv4_block3_2_relu (Activation (None, 16, 16, 256)  0           conv4_block3_2_bn[0][0]          \n",
            "__________________________________________________________________________________________________\n",
            "conv4_block3_3_conv (Conv2D)    (None, 16, 16, 1024) 263168      conv4_block3_2_relu[0][0]        \n",
            "__________________________________________________________________________________________________\n",
            "conv4_block3_3_bn (BatchNormali (None, 16, 16, 1024) 4096        conv4_block3_3_conv[0][0]        \n",
            "__________________________________________________________________________________________________\n",
            "conv4_block3_add (Add)          (None, 16, 16, 1024) 0           conv4_block2_out[0][0]           \n",
            "                                                                 conv4_block3_3_bn[0][0]          \n",
            "__________________________________________________________________________________________________\n",
            "conv4_block3_out (Activation)   (None, 16, 16, 1024) 0           conv4_block3_add[0][0]           \n",
            "__________________________________________________________________________________________________\n",
            "conv4_block4_1_conv (Conv2D)    (None, 16, 16, 256)  262400      conv4_block3_out[0][0]           \n",
            "__________________________________________________________________________________________________\n",
            "conv4_block4_1_bn (BatchNormali (None, 16, 16, 256)  1024        conv4_block4_1_conv[0][0]        \n",
            "__________________________________________________________________________________________________\n",
            "conv4_block4_1_relu (Activation (None, 16, 16, 256)  0           conv4_block4_1_bn[0][0]          \n",
            "__________________________________________________________________________________________________\n",
            "conv4_block4_2_conv (Conv2D)    (None, 16, 16, 256)  590080      conv4_block4_1_relu[0][0]        \n",
            "__________________________________________________________________________________________________\n",
            "conv4_block4_2_bn (BatchNormali (None, 16, 16, 256)  1024        conv4_block4_2_conv[0][0]        \n",
            "__________________________________________________________________________________________________\n",
            "conv4_block4_2_relu (Activation (None, 16, 16, 256)  0           conv4_block4_2_bn[0][0]          \n",
            "__________________________________________________________________________________________________\n",
            "conv4_block4_3_conv (Conv2D)    (None, 16, 16, 1024) 263168      conv4_block4_2_relu[0][0]        \n",
            "__________________________________________________________________________________________________\n",
            "conv4_block4_3_bn (BatchNormali (None, 16, 16, 1024) 4096        conv4_block4_3_conv[0][0]        \n",
            "__________________________________________________________________________________________________\n",
            "conv4_block4_add (Add)          (None, 16, 16, 1024) 0           conv4_block3_out[0][0]           \n",
            "                                                                 conv4_block4_3_bn[0][0]          \n",
            "__________________________________________________________________________________________________\n",
            "conv4_block4_out (Activation)   (None, 16, 16, 1024) 0           conv4_block4_add[0][0]           \n",
            "__________________________________________________________________________________________________\n",
            "conv4_block5_1_conv (Conv2D)    (None, 16, 16, 256)  262400      conv4_block4_out[0][0]           \n",
            "__________________________________________________________________________________________________\n",
            "conv4_block5_1_bn (BatchNormali (None, 16, 16, 256)  1024        conv4_block5_1_conv[0][0]        \n",
            "__________________________________________________________________________________________________\n",
            "conv4_block5_1_relu (Activation (None, 16, 16, 256)  0           conv4_block5_1_bn[0][0]          \n",
            "__________________________________________________________________________________________________\n",
            "conv4_block5_2_conv (Conv2D)    (None, 16, 16, 256)  590080      conv4_block5_1_relu[0][0]        \n",
            "__________________________________________________________________________________________________\n",
            "conv4_block5_2_bn (BatchNormali (None, 16, 16, 256)  1024        conv4_block5_2_conv[0][0]        \n",
            "__________________________________________________________________________________________________\n",
            "conv4_block5_2_relu (Activation (None, 16, 16, 256)  0           conv4_block5_2_bn[0][0]          \n",
            "__________________________________________________________________________________________________\n",
            "conv4_block5_3_conv (Conv2D)    (None, 16, 16, 1024) 263168      conv4_block5_2_relu[0][0]        \n",
            "__________________________________________________________________________________________________\n",
            "conv4_block5_3_bn (BatchNormali (None, 16, 16, 1024) 4096        conv4_block5_3_conv[0][0]        \n",
            "__________________________________________________________________________________________________\n",
            "conv4_block5_add (Add)          (None, 16, 16, 1024) 0           conv4_block4_out[0][0]           \n",
            "                                                                 conv4_block5_3_bn[0][0]          \n",
            "__________________________________________________________________________________________________\n",
            "conv4_block5_out (Activation)   (None, 16, 16, 1024) 0           conv4_block5_add[0][0]           \n",
            "__________________________________________________________________________________________________\n",
            "conv4_block6_1_conv (Conv2D)    (None, 16, 16, 256)  262400      conv4_block5_out[0][0]           \n",
            "__________________________________________________________________________________________________\n",
            "conv4_block6_1_bn (BatchNormali (None, 16, 16, 256)  1024        conv4_block6_1_conv[0][0]        \n",
            "__________________________________________________________________________________________________\n",
            "conv4_block6_1_relu (Activation (None, 16, 16, 256)  0           conv4_block6_1_bn[0][0]          \n",
            "__________________________________________________________________________________________________\n",
            "conv4_block6_2_conv (Conv2D)    (None, 16, 16, 256)  590080      conv4_block6_1_relu[0][0]        \n",
            "__________________________________________________________________________________________________\n",
            "conv4_block6_2_bn (BatchNormali (None, 16, 16, 256)  1024        conv4_block6_2_conv[0][0]        \n",
            "__________________________________________________________________________________________________\n",
            "conv4_block6_2_relu (Activation (None, 16, 16, 256)  0           conv4_block6_2_bn[0][0]          \n",
            "__________________________________________________________________________________________________\n",
            "conv4_block6_3_conv (Conv2D)    (None, 16, 16, 1024) 263168      conv4_block6_2_relu[0][0]        \n",
            "__________________________________________________________________________________________________\n",
            "conv4_block6_3_bn (BatchNormali (None, 16, 16, 1024) 4096        conv4_block6_3_conv[0][0]        \n",
            "__________________________________________________________________________________________________\n",
            "conv4_block6_add (Add)          (None, 16, 16, 1024) 0           conv4_block5_out[0][0]           \n",
            "                                                                 conv4_block6_3_bn[0][0]          \n",
            "__________________________________________________________________________________________________\n",
            "conv4_block6_out (Activation)   (None, 16, 16, 1024) 0           conv4_block6_add[0][0]           \n",
            "__________________________________________________________________________________________________\n",
            "conv5_block1_1_conv (Conv2D)    (None, 8, 8, 512)    524800      conv4_block6_out[0][0]           \n",
            "__________________________________________________________________________________________________\n",
            "conv5_block1_1_bn (BatchNormali (None, 8, 8, 512)    2048        conv5_block1_1_conv[0][0]        \n",
            "__________________________________________________________________________________________________\n",
            "conv5_block1_1_relu (Activation (None, 8, 8, 512)    0           conv5_block1_1_bn[0][0]          \n",
            "__________________________________________________________________________________________________\n",
            "conv5_block1_2_conv (Conv2D)    (None, 8, 8, 512)    2359808     conv5_block1_1_relu[0][0]        \n",
            "__________________________________________________________________________________________________\n",
            "conv5_block1_2_bn (BatchNormali (None, 8, 8, 512)    2048        conv5_block1_2_conv[0][0]        \n",
            "__________________________________________________________________________________________________\n",
            "conv5_block1_2_relu (Activation (None, 8, 8, 512)    0           conv5_block1_2_bn[0][0]          \n",
            "__________________________________________________________________________________________________\n",
            "conv5_block1_0_conv (Conv2D)    (None, 8, 8, 2048)   2099200     conv4_block6_out[0][0]           \n",
            "__________________________________________________________________________________________________\n",
            "conv5_block1_3_conv (Conv2D)    (None, 8, 8, 2048)   1050624     conv5_block1_2_relu[0][0]        \n",
            "__________________________________________________________________________________________________\n",
            "conv5_block1_0_bn (BatchNormali (None, 8, 8, 2048)   8192        conv5_block1_0_conv[0][0]        \n",
            "__________________________________________________________________________________________________\n",
            "conv5_block1_3_bn (BatchNormali (None, 8, 8, 2048)   8192        conv5_block1_3_conv[0][0]        \n",
            "__________________________________________________________________________________________________\n",
            "conv5_block1_add (Add)          (None, 8, 8, 2048)   0           conv5_block1_0_bn[0][0]          \n",
            "                                                                 conv5_block1_3_bn[0][0]          \n",
            "__________________________________________________________________________________________________\n",
            "conv5_block1_out (Activation)   (None, 8, 8, 2048)   0           conv5_block1_add[0][0]           \n",
            "__________________________________________________________________________________________________\n",
            "conv5_block2_1_conv (Conv2D)    (None, 8, 8, 512)    1049088     conv5_block1_out[0][0]           \n",
            "__________________________________________________________________________________________________\n",
            "conv5_block2_1_bn (BatchNormali (None, 8, 8, 512)    2048        conv5_block2_1_conv[0][0]        \n",
            "__________________________________________________________________________________________________\n",
            "conv5_block2_1_relu (Activation (None, 8, 8, 512)    0           conv5_block2_1_bn[0][0]          \n",
            "__________________________________________________________________________________________________\n",
            "conv5_block2_2_conv (Conv2D)    (None, 8, 8, 512)    2359808     conv5_block2_1_relu[0][0]        \n",
            "__________________________________________________________________________________________________\n",
            "conv5_block2_2_bn (BatchNormali (None, 8, 8, 512)    2048        conv5_block2_2_conv[0][0]        \n",
            "__________________________________________________________________________________________________\n",
            "conv5_block2_2_relu (Activation (None, 8, 8, 512)    0           conv5_block2_2_bn[0][0]          \n",
            "__________________________________________________________________________________________________\n",
            "conv5_block2_3_conv (Conv2D)    (None, 8, 8, 2048)   1050624     conv5_block2_2_relu[0][0]        \n",
            "__________________________________________________________________________________________________\n",
            "conv5_block2_3_bn (BatchNormali (None, 8, 8, 2048)   8192        conv5_block2_3_conv[0][0]        \n",
            "__________________________________________________________________________________________________\n",
            "conv5_block2_add (Add)          (None, 8, 8, 2048)   0           conv5_block1_out[0][0]           \n",
            "                                                                 conv5_block2_3_bn[0][0]          \n",
            "__________________________________________________________________________________________________\n",
            "conv5_block2_out (Activation)   (None, 8, 8, 2048)   0           conv5_block2_add[0][0]           \n",
            "__________________________________________________________________________________________________\n",
            "conv5_block3_1_conv (Conv2D)    (None, 8, 8, 512)    1049088     conv5_block2_out[0][0]           \n",
            "__________________________________________________________________________________________________\n",
            "conv5_block3_1_bn (BatchNormali (None, 8, 8, 512)    2048        conv5_block3_1_conv[0][0]        \n",
            "__________________________________________________________________________________________________\n",
            "conv5_block3_1_relu (Activation (None, 8, 8, 512)    0           conv5_block3_1_bn[0][0]          \n",
            "__________________________________________________________________________________________________\n",
            "conv5_block3_2_conv (Conv2D)    (None, 8, 8, 512)    2359808     conv5_block3_1_relu[0][0]        \n",
            "__________________________________________________________________________________________________\n",
            "conv5_block3_2_bn (BatchNormali (None, 8, 8, 512)    2048        conv5_block3_2_conv[0][0]        \n",
            "__________________________________________________________________________________________________\n",
            "conv5_block3_2_relu (Activation (None, 8, 8, 512)    0           conv5_block3_2_bn[0][0]          \n",
            "__________________________________________________________________________________________________\n",
            "conv5_block3_3_conv (Conv2D)    (None, 8, 8, 2048)   1050624     conv5_block3_2_relu[0][0]        \n",
            "__________________________________________________________________________________________________\n",
            "conv5_block3_3_bn (BatchNormali (None, 8, 8, 2048)   8192        conv5_block3_3_conv[0][0]        \n",
            "__________________________________________________________________________________________________\n",
            "conv5_block3_add (Add)          (None, 8, 8, 2048)   0           conv5_block2_out[0][0]           \n",
            "                                                                 conv5_block3_3_bn[0][0]          \n",
            "__________________________________________________________________________________________________\n",
            "conv5_block3_out (Activation)   (None, 8, 8, 2048)   0           conv5_block3_add[0][0]           \n",
            "__________________________________________________________________________________________________\n",
            "global_average_pooling2d (Globa (None, 2048)         0           conv5_block3_out[0][0]           \n",
            "__________________________________________________________________________________________________\n",
            "batch_normalization (BatchNorma (None, 2048)         8192        global_average_pooling2d[0][0]   \n",
            "__________________________________________________________________________________________________\n",
            "dropout (Dropout)               (None, 2048)         0           batch_normalization[0][0]        \n",
            "__________________________________________________________________________________________________\n",
            "dense (Dense)                   (None, 512)          1049088     dropout[0][0]                    \n",
            "__________________________________________________________________________________________________\n",
            "batch_normalization_1 (BatchNor (None, 512)          2048        dense[0][0]                      \n",
            "__________________________________________________________________________________________________\n",
            "dropout_1 (Dropout)             (None, 512)          0           batch_normalization_1[0][0]      \n",
            "__________________________________________________________________________________________________\n",
            "dense_1 (Dense)                 (None, 256)          131328      dropout_1[0][0]                  \n",
            "==================================================================================================\n",
            "Total params: 24,778,368\n",
            "Trainable params: 1,185,536\n",
            "Non-trainable params: 23,592,832\n",
            "__________________________________________________________________________________________________\n"
          ],
          "name": "stdout"
        }
      ]
    },
    {
      "cell_type": "code",
      "metadata": {
        "id": "xDC2Y9uFVA4D",
        "colab": {
          "base_uri": "https://localhost:8080/"
        },
        "outputId": "881250c9-22a0-4d54-b0bd-3f6f9788133f"
      },
      "source": [
        "history = model.fit_generator(train_flow, epochs=100, validation_data=valid_flow) "
      ],
      "execution_count": null,
      "outputs": [
        {
          "output_type": "stream",
          "text": [
            "/usr/local/lib/python3.7/dist-packages/tensorflow/python/keras/engine/training.py:1844: UserWarning: `Model.fit_generator` is deprecated and will be removed in a future version. Please use `Model.fit`, which supports generators.\n",
            "  warnings.warn('`Model.fit_generator` is deprecated and '\n"
          ],
          "name": "stderr"
        },
        {
          "output_type": "stream",
          "text": [
            "Epoch 1/100\n",
            "48/48 [==============================] - 34s 640ms/step - loss: 5.2065 - accuracy: 0.1025 - val_loss: 2.4864 - val_accuracy: 0.6055\n",
            "Epoch 2/100\n",
            "48/48 [==============================] - 30s 613ms/step - loss: 2.2103 - accuracy: 0.5257 - val_loss: 1.5412 - val_accuracy: 0.7233\n",
            "Epoch 3/100\n",
            "48/48 [==============================] - 30s 613ms/step - loss: 1.4250 - accuracy: 0.6920 - val_loss: 1.1940 - val_accuracy: 0.7493\n",
            "Epoch 4/100\n",
            "48/48 [==============================] - 29s 604ms/step - loss: 1.0002 - accuracy: 0.7736 - val_loss: 1.0439 - val_accuracy: 0.7630\n",
            "Epoch 5/100\n",
            "48/48 [==============================] - 29s 597ms/step - loss: 0.7536 - accuracy: 0.8310 - val_loss: 0.9538 - val_accuracy: 0.7708\n",
            "Epoch 6/100\n",
            "48/48 [==============================] - 29s 606ms/step - loss: 0.6335 - accuracy: 0.8643 - val_loss: 0.8896 - val_accuracy: 0.7845\n",
            "Epoch 7/100\n",
            "48/48 [==============================] - 29s 599ms/step - loss: 0.4936 - accuracy: 0.8890 - val_loss: 0.8559 - val_accuracy: 0.7975\n",
            "Epoch 8/100\n",
            "48/48 [==============================] - 29s 600ms/step - loss: 0.3942 - accuracy: 0.9140 - val_loss: 0.8405 - val_accuracy: 0.7904\n",
            "Epoch 9/100\n",
            "48/48 [==============================] - 29s 599ms/step - loss: 0.3556 - accuracy: 0.9226 - val_loss: 0.8351 - val_accuracy: 0.7923\n",
            "Epoch 10/100\n",
            "48/48 [==============================] - 29s 612ms/step - loss: 0.3027 - accuracy: 0.9377 - val_loss: 0.8335 - val_accuracy: 0.7891\n",
            "Epoch 11/100\n",
            "48/48 [==============================] - 29s 611ms/step - loss: 0.2707 - accuracy: 0.9406 - val_loss: 0.8266 - val_accuracy: 0.7852\n",
            "Epoch 12/100\n",
            "48/48 [==============================] - 29s 612ms/step - loss: 0.2284 - accuracy: 0.9483 - val_loss: 0.8185 - val_accuracy: 0.7910\n",
            "Epoch 13/100\n",
            "48/48 [==============================] - 29s 610ms/step - loss: 0.2073 - accuracy: 0.9623 - val_loss: 0.8128 - val_accuracy: 0.7904\n",
            "Epoch 14/100\n",
            "48/48 [==============================] - 29s 608ms/step - loss: 0.1875 - accuracy: 0.9571 - val_loss: 0.8131 - val_accuracy: 0.7969\n",
            "Epoch 15/100\n",
            "48/48 [==============================] - 29s 607ms/step - loss: 0.1700 - accuracy: 0.9670 - val_loss: 0.8233 - val_accuracy: 0.7904\n",
            "Epoch 16/100\n",
            "48/48 [==============================] - 29s 607ms/step - loss: 0.1542 - accuracy: 0.9665 - val_loss: 0.8175 - val_accuracy: 0.7923\n",
            "Epoch 17/100\n",
            "48/48 [==============================] - 29s 613ms/step - loss: 0.1502 - accuracy: 0.9662 - val_loss: 0.8262 - val_accuracy: 0.7917\n",
            "Epoch 18/100\n",
            "48/48 [==============================] - 30s 615ms/step - loss: 0.1210 - accuracy: 0.9774 - val_loss: 0.8214 - val_accuracy: 0.7930\n",
            "Epoch 19/100\n",
            "48/48 [==============================] - 29s 607ms/step - loss: 0.1307 - accuracy: 0.9716 - val_loss: 0.8270 - val_accuracy: 0.7956\n",
            "Epoch 20/100\n",
            "48/48 [==============================] - 30s 617ms/step - loss: 0.1201 - accuracy: 0.9742 - val_loss: 0.8228 - val_accuracy: 0.7949\n",
            "Epoch 21/100\n",
            "48/48 [==============================] - 29s 605ms/step - loss: 0.1122 - accuracy: 0.9761 - val_loss: 0.8219 - val_accuracy: 0.7995\n",
            "Epoch 22/100\n",
            "48/48 [==============================] - 29s 610ms/step - loss: 0.1007 - accuracy: 0.9800 - val_loss: 0.8235 - val_accuracy: 0.7930\n",
            "Epoch 23/100\n",
            "48/48 [==============================] - 29s 605ms/step - loss: 0.1005 - accuracy: 0.9769 - val_loss: 0.8278 - val_accuracy: 0.7865\n",
            "Epoch 24/100\n",
            "48/48 [==============================] - 29s 605ms/step - loss: 0.0930 - accuracy: 0.9828 - val_loss: 0.8217 - val_accuracy: 0.7858\n",
            "Epoch 25/100\n",
            "48/48 [==============================] - 29s 605ms/step - loss: 0.0862 - accuracy: 0.9846 - val_loss: 0.8347 - val_accuracy: 0.7943\n",
            "Epoch 26/100\n",
            "48/48 [==============================] - 29s 605ms/step - loss: 0.0901 - accuracy: 0.9782 - val_loss: 0.8619 - val_accuracy: 0.7910\n",
            "Epoch 27/100\n",
            "48/48 [==============================] - 29s 610ms/step - loss: 0.0799 - accuracy: 0.9847 - val_loss: 0.8553 - val_accuracy: 0.7852\n",
            "Epoch 28/100\n",
            "48/48 [==============================] - 29s 605ms/step - loss: 0.0782 - accuracy: 0.9829 - val_loss: 0.8577 - val_accuracy: 0.7904\n",
            "Epoch 29/100\n",
            "48/48 [==============================] - 29s 606ms/step - loss: 0.0842 - accuracy: 0.9807 - val_loss: 0.8477 - val_accuracy: 0.7910\n",
            "Epoch 30/100\n",
            "48/48 [==============================] - 29s 613ms/step - loss: 0.0758 - accuracy: 0.9854 - val_loss: 0.8489 - val_accuracy: 0.7956\n",
            "Epoch 31/100\n",
            "48/48 [==============================] - 29s 601ms/step - loss: 0.0763 - accuracy: 0.9828 - val_loss: 0.8589 - val_accuracy: 0.7943\n",
            "Epoch 32/100\n",
            "48/48 [==============================] - 29s 609ms/step - loss: 0.0706 - accuracy: 0.9844 - val_loss: 0.8657 - val_accuracy: 0.7897\n",
            "Epoch 33/100\n",
            "48/48 [==============================] - 29s 598ms/step - loss: 0.0664 - accuracy: 0.9864 - val_loss: 0.8666 - val_accuracy: 0.7845\n",
            "Epoch 34/100\n",
            "48/48 [==============================] - 29s 599ms/step - loss: 0.0649 - accuracy: 0.9854 - val_loss: 0.8617 - val_accuracy: 0.7897\n",
            "Epoch 35/100\n",
            "48/48 [==============================] - 29s 607ms/step - loss: 0.0637 - accuracy: 0.9867 - val_loss: 0.8571 - val_accuracy: 0.7897\n",
            "Epoch 36/100\n",
            "48/48 [==============================] - 29s 605ms/step - loss: 0.0638 - accuracy: 0.9872 - val_loss: 0.8727 - val_accuracy: 0.7975\n",
            "Epoch 37/100\n",
            "48/48 [==============================] - 29s 602ms/step - loss: 0.0641 - accuracy: 0.9845 - val_loss: 0.8613 - val_accuracy: 0.7904\n",
            "Epoch 38/100\n",
            "48/48 [==============================] - 29s 611ms/step - loss: 0.0628 - accuracy: 0.9833 - val_loss: 0.8695 - val_accuracy: 0.7988\n",
            "Epoch 39/100\n",
            "48/48 [==============================] - 30s 615ms/step - loss: 0.0518 - accuracy: 0.9889 - val_loss: 0.8645 - val_accuracy: 0.7897\n",
            "Epoch 40/100\n",
            "48/48 [==============================] - 29s 610ms/step - loss: 0.0592 - accuracy: 0.9862 - val_loss: 0.8656 - val_accuracy: 0.7871\n",
            "Epoch 41/100\n",
            "48/48 [==============================] - 29s 611ms/step - loss: 0.0502 - accuracy: 0.9894 - val_loss: 0.8701 - val_accuracy: 0.7923\n",
            "Epoch 42/100\n",
            "48/48 [==============================] - 29s 602ms/step - loss: 0.0499 - accuracy: 0.9903 - val_loss: 0.8603 - val_accuracy: 0.7897\n",
            "Epoch 43/100\n",
            "48/48 [==============================] - 29s 600ms/step - loss: 0.0518 - accuracy: 0.9883 - val_loss: 0.8662 - val_accuracy: 0.7962\n",
            "Epoch 44/100\n",
            "48/48 [==============================] - 30s 616ms/step - loss: 0.0502 - accuracy: 0.9893 - val_loss: 0.8661 - val_accuracy: 0.7988\n",
            "Epoch 45/100\n",
            "48/48 [==============================] - 29s 602ms/step - loss: 0.0538 - accuracy: 0.9868 - val_loss: 0.8695 - val_accuracy: 0.7910\n",
            "Epoch 46/100\n",
            "48/48 [==============================] - 29s 610ms/step - loss: 0.0493 - accuracy: 0.9894 - val_loss: 0.8828 - val_accuracy: 0.7852\n",
            "Epoch 47/100\n",
            "48/48 [==============================] - 29s 602ms/step - loss: 0.0497 - accuracy: 0.9894 - val_loss: 0.8890 - val_accuracy: 0.7884\n",
            "Epoch 48/100\n",
            "48/48 [==============================] - 29s 606ms/step - loss: 0.0462 - accuracy: 0.9915 - val_loss: 0.8847 - val_accuracy: 0.7878\n",
            "Epoch 49/100\n",
            "48/48 [==============================] - 29s 605ms/step - loss: 0.0560 - accuracy: 0.9862 - val_loss: 0.8812 - val_accuracy: 0.7910\n",
            "Epoch 50/100\n",
            "48/48 [==============================] - 29s 602ms/step - loss: 0.0432 - accuracy: 0.9909 - val_loss: 0.8799 - val_accuracy: 0.7891\n",
            "Epoch 51/100\n",
            "48/48 [==============================] - 29s 605ms/step - loss: 0.0479 - accuracy: 0.9908 - val_loss: 0.8715 - val_accuracy: 0.7897\n",
            "Epoch 52/100\n",
            "48/48 [==============================] - 29s 601ms/step - loss: 0.0502 - accuracy: 0.9863 - val_loss: 0.8604 - val_accuracy: 0.7871\n",
            "Epoch 53/100\n",
            "48/48 [==============================] - 29s 609ms/step - loss: 0.0453 - accuracy: 0.9913 - val_loss: 0.8694 - val_accuracy: 0.7832\n",
            "Epoch 54/100\n",
            "48/48 [==============================] - 29s 600ms/step - loss: 0.0435 - accuracy: 0.9902 - val_loss: 0.8670 - val_accuracy: 0.7910\n",
            "Epoch 55/100\n",
            "48/48 [==============================] - 29s 596ms/step - loss: 0.0399 - accuracy: 0.9909 - val_loss: 0.8680 - val_accuracy: 0.7949\n",
            "Epoch 56/100\n",
            "48/48 [==============================] - 29s 609ms/step - loss: 0.0434 - accuracy: 0.9929 - val_loss: 0.8730 - val_accuracy: 0.7982\n",
            "Epoch 57/100\n",
            "48/48 [==============================] - 29s 604ms/step - loss: 0.0436 - accuracy: 0.9917 - val_loss: 0.8832 - val_accuracy: 0.7930\n",
            "Epoch 58/100\n",
            "48/48 [==============================] - 29s 619ms/step - loss: 0.0435 - accuracy: 0.9888 - val_loss: 0.8830 - val_accuracy: 0.7891\n",
            "Epoch 59/100\n",
            "48/48 [==============================] - 29s 607ms/step - loss: 0.0361 - accuracy: 0.9921 - val_loss: 0.8748 - val_accuracy: 0.7891\n",
            "Epoch 60/100\n",
            "48/48 [==============================] - 29s 603ms/step - loss: 0.0389 - accuracy: 0.9915 - val_loss: 0.8848 - val_accuracy: 0.7878\n",
            "Epoch 61/100\n",
            "48/48 [==============================] - 29s 611ms/step - loss: 0.0421 - accuracy: 0.9899 - val_loss: 0.8798 - val_accuracy: 0.7897\n",
            "Epoch 62/100\n",
            "48/48 [==============================] - 29s 609ms/step - loss: 0.0428 - accuracy: 0.9869 - val_loss: 0.8780 - val_accuracy: 0.7884\n",
            "Epoch 63/100\n",
            "48/48 [==============================] - 29s 615ms/step - loss: 0.0389 - accuracy: 0.9905 - val_loss: 0.8894 - val_accuracy: 0.7871\n",
            "Epoch 64/100\n",
            "48/48 [==============================] - 29s 609ms/step - loss: 0.0397 - accuracy: 0.9923 - val_loss: 0.8944 - val_accuracy: 0.7943\n",
            "Epoch 65/100\n",
            "48/48 [==============================] - 29s 613ms/step - loss: 0.0399 - accuracy: 0.9893 - val_loss: 0.8802 - val_accuracy: 0.7930\n",
            "Epoch 66/100\n",
            "48/48 [==============================] - 29s 601ms/step - loss: 0.0421 - accuracy: 0.9893 - val_loss: 0.8767 - val_accuracy: 0.7871\n",
            "Epoch 67/100\n",
            "48/48 [==============================] - 29s 595ms/step - loss: 0.0374 - accuracy: 0.9898 - val_loss: 0.8869 - val_accuracy: 0.7904\n",
            "Epoch 68/100\n",
            "48/48 [==============================] - 29s 604ms/step - loss: 0.0335 - accuracy: 0.9909 - val_loss: 0.8856 - val_accuracy: 0.7930\n",
            "Epoch 69/100\n",
            "48/48 [==============================] - 29s 603ms/step - loss: 0.0403 - accuracy: 0.9906 - val_loss: 0.8929 - val_accuracy: 0.7904\n",
            "Epoch 70/100\n",
            "48/48 [==============================] - 29s 610ms/step - loss: 0.0403 - accuracy: 0.9892 - val_loss: 0.8988 - val_accuracy: 0.7832\n",
            "Epoch 71/100\n",
            "48/48 [==============================] - 29s 605ms/step - loss: 0.0357 - accuracy: 0.9909 - val_loss: 0.8878 - val_accuracy: 0.7943\n",
            "Epoch 72/100\n",
            "48/48 [==============================] - 29s 611ms/step - loss: 0.0329 - accuracy: 0.9917 - val_loss: 0.8821 - val_accuracy: 0.7962\n",
            "Epoch 73/100\n",
            "48/48 [==============================] - 29s 602ms/step - loss: 0.0340 - accuracy: 0.9915 - val_loss: 0.8836 - val_accuracy: 0.7969\n",
            "Epoch 74/100\n",
            "48/48 [==============================] - 29s 608ms/step - loss: 0.0326 - accuracy: 0.9932 - val_loss: 0.8829 - val_accuracy: 0.7988\n",
            "Epoch 75/100\n",
            "48/48 [==============================] - 29s 610ms/step - loss: 0.0423 - accuracy: 0.9896 - val_loss: 0.8921 - val_accuracy: 0.8053\n",
            "Epoch 76/100\n",
            "48/48 [==============================] - 29s 605ms/step - loss: 0.0345 - accuracy: 0.9913 - val_loss: 0.8991 - val_accuracy: 0.8027\n",
            "Epoch 77/100\n",
            "48/48 [==============================] - 29s 608ms/step - loss: 0.0325 - accuracy: 0.9934 - val_loss: 0.8968 - val_accuracy: 0.7936\n",
            "Epoch 78/100\n",
            "48/48 [==============================] - 29s 602ms/step - loss: 0.0405 - accuracy: 0.9897 - val_loss: 0.8816 - val_accuracy: 0.7969\n",
            "Epoch 79/100\n",
            "48/48 [==============================] - 29s 603ms/step - loss: 0.0338 - accuracy: 0.9932 - val_loss: 0.8875 - val_accuracy: 0.8008\n",
            "Epoch 80/100\n",
            "48/48 [==============================] - 29s 601ms/step - loss: 0.0339 - accuracy: 0.9929 - val_loss: 0.8971 - val_accuracy: 0.7917\n",
            "Epoch 81/100\n",
            "48/48 [==============================] - 29s 600ms/step - loss: 0.0282 - accuracy: 0.9951 - val_loss: 0.8935 - val_accuracy: 0.7897\n",
            "Epoch 82/100\n",
            "48/48 [==============================] - 29s 605ms/step - loss: 0.0320 - accuracy: 0.9915 - val_loss: 0.8804 - val_accuracy: 0.7982\n",
            "Epoch 83/100\n",
            "48/48 [==============================] - 29s 606ms/step - loss: 0.0345 - accuracy: 0.9922 - val_loss: 0.8815 - val_accuracy: 0.7982\n",
            "Epoch 84/100\n",
            "48/48 [==============================] - 29s 613ms/step - loss: 0.0375 - accuracy: 0.9927 - val_loss: 0.8684 - val_accuracy: 0.7988\n",
            "Epoch 85/100\n",
            "48/48 [==============================] - 29s 609ms/step - loss: 0.0343 - accuracy: 0.9926 - val_loss: 0.8974 - val_accuracy: 0.7936\n",
            "Epoch 86/100\n",
            "48/48 [==============================] - 29s 602ms/step - loss: 0.0319 - accuracy: 0.9911 - val_loss: 0.8967 - val_accuracy: 0.7969\n",
            "Epoch 87/100\n",
            "48/48 [==============================] - 29s 607ms/step - loss: 0.0300 - accuracy: 0.9922 - val_loss: 0.9056 - val_accuracy: 0.7910\n",
            "Epoch 88/100\n",
            "48/48 [==============================] - 29s 601ms/step - loss: 0.0357 - accuracy: 0.9908 - val_loss: 0.9108 - val_accuracy: 0.7897\n",
            "Epoch 89/100\n",
            "48/48 [==============================] - 29s 594ms/step - loss: 0.0308 - accuracy: 0.9936 - val_loss: 0.9082 - val_accuracy: 0.7910\n",
            "Epoch 90/100\n",
            "48/48 [==============================] - 29s 607ms/step - loss: 0.0371 - accuracy: 0.9897 - val_loss: 0.9034 - val_accuracy: 0.7871\n",
            "Epoch 91/100\n",
            "48/48 [==============================] - 29s 609ms/step - loss: 0.0277 - accuracy: 0.9953 - val_loss: 0.9142 - val_accuracy: 0.7878\n",
            "Epoch 92/100\n",
            "48/48 [==============================] - 29s 601ms/step - loss: 0.0323 - accuracy: 0.9927 - val_loss: 0.9047 - val_accuracy: 0.7949\n",
            "Epoch 93/100\n",
            "48/48 [==============================] - 29s 600ms/step - loss: 0.0312 - accuracy: 0.9920 - val_loss: 0.9006 - val_accuracy: 0.7923\n",
            "Epoch 94/100\n",
            "48/48 [==============================] - 29s 609ms/step - loss: 0.0289 - accuracy: 0.9925 - val_loss: 0.8941 - val_accuracy: 0.7943\n",
            "Epoch 95/100\n",
            "48/48 [==============================] - 29s 608ms/step - loss: 0.0293 - accuracy: 0.9940 - val_loss: 0.8993 - val_accuracy: 0.7884\n",
            "Epoch 96/100\n",
            "48/48 [==============================] - 29s 601ms/step - loss: 0.0295 - accuracy: 0.9944 - val_loss: 0.8875 - val_accuracy: 0.7936\n",
            "Epoch 97/100\n",
            "48/48 [==============================] - 29s 609ms/step - loss: 0.0311 - accuracy: 0.9927 - val_loss: 0.8948 - val_accuracy: 0.7910\n",
            "Epoch 98/100\n",
            "48/48 [==============================] - 29s 610ms/step - loss: 0.0287 - accuracy: 0.9919 - val_loss: 0.8862 - val_accuracy: 0.7962\n",
            "Epoch 99/100\n",
            "48/48 [==============================] - 29s 608ms/step - loss: 0.0267 - accuracy: 0.9920 - val_loss: 0.8947 - val_accuracy: 0.7982\n",
            "Epoch 100/100\n",
            "48/48 [==============================] - 29s 602ms/step - loss: 0.0225 - accuracy: 0.9947 - val_loss: 0.8843 - val_accuracy: 0.8001\n"
          ],
          "name": "stdout"
        }
      ]
    },
    {
      "cell_type": "code",
      "metadata": {
        "id": "6rY7E-JjVP2Y",
        "colab": {
          "base_uri": "https://localhost:8080/",
          "height": 312
        },
        "outputId": "ac915392-9df3-44ca-8c2c-0270457efcd8"
      },
      "source": [
        "import keras\n",
        "from matplotlib import pyplot as plt\n",
        "\n",
        "plt.plot(history.history['accuracy'])\n",
        "plt.plot(history.history['val_accuracy'])\n",
        "plt.title('model accuracy')\n",
        "plt.ylabel('accuracy')\n",
        "plt.xlabel('epoch')\n",
        "plt.legend(['train', 'val'], loc='upper left')\n",
        "plt.show()\n",
        "plt.savefig(\"performance_caltech256.png\")"
      ],
      "execution_count": null,
      "outputs": [
        {
          "output_type": "display_data",
          "data": {
            "image/png": "[encoded data removed]",
            "text/plain": [
              "<Figure size 432x288 with 1 Axes>"
            ]
          },
          "metadata": {
            "tags": [],
            "needs_background": "light"
          }
        },
        {
          "output_type": "display_data",
          "data": {
            "text/plain": [
              "<Figure size 432x288 with 0 Axes>"
            ]
          },
          "metadata": {
            "tags": []
          }
        }
      ]
    }
  ]
}
