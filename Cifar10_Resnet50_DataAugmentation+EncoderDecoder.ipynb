{
  "nbformat": 4,
  "nbformat_minor": 0,
  "metadata": {
    "colab": {
      "name": "Cifar10_Resnet50_DataAugmentation+EncoderDecoder.ipynb",
      "provenance": [],
      "collapsed_sections": [],
      "include_colab_link": true
    },
    "kernelspec": {
      "name": "python3",
      "display_name": "Python 3"
    },
    "accelerator": "GPU"
  },
  "cells": [
    {
      "cell_type": "markdown",
      "metadata": {
        "id": "view-in-github",
        "colab_type": "text"
      },
      "source": [
        "<a href=\"https://colab.research.google.com/github/dhyan1999/DL_ML/blob/master/Cifar10_Resnet50_DataAugmentation%2BEncoderDecoder.ipynb\" target=\"_parent\"><img src=\"https://colab.research.google.com/assets/colab-badge.svg\" alt=\"Open In Colab\"/></a>"
      ]
    },
    {
      "cell_type": "code",
      "metadata": {
        "id": "nBadgAsf22lm",
        "colab": {
          "base_uri": "https://localhost:8080/"
        },
        "outputId": "45fe4c6d-fc91-431e-cdf2-37c0ed140cec"
      },
      "source": [
        "%tensorflow_version 1.x\n",
        "from tensorflow.keras.applications.resnet50 import ResNet50, preprocess_input\n",
        "import tensorflow.keras as keras\n",
        "from tensorflow.keras import models,layers,optimizers\n",
        "import tensorflow as tf\n",
        "from keras.utils import np_utils\n",
        "from keras.models import load_model\n",
        "from keras.datasets import cifar10\n",
        "from keras.preprocessing import image\n",
        "import numpy as np\n",
        "import matplotlib.pyplot as plt\n",
        "from PIL import Image\n",
        "import cv2"
      ],
      "execution_count": null,
      "outputs": [
        {
          "output_type": "stream",
          "text": [
            "TensorFlow 1.x selected.\n"
          ],
          "name": "stdout"
        },
        {
          "output_type": "stream",
          "text": [
            "Using TensorFlow backend.\n"
          ],
          "name": "stderr"
        }
      ]
    },
    {
      "cell_type": "code",
      "metadata": {
        "id": "kLj1DNJl3G5K",
        "colab": {
          "base_uri": "https://localhost:8080/"
        },
        "outputId": "3a6124df-a60f-4567-e4d0-51958a1ad0cf"
      },
      "source": [
        "ResNet50 = ResNet50(weights='imagenet', include_top=False, input_shape=(200, 200, 3))"
      ],
      "execution_count": null,
      "outputs": [
        {
          "output_type": "stream",
          "text": [
            "WARNING:tensorflow:From /tensorflow-1.15.2/python3.7/tensorflow_core/python/ops/resource_variable_ops.py:1630: calling BaseResourceVariable.__init__ (from tensorflow.python.ops.resource_variable_ops) with constraint is deprecated and will be removed in a future version.\n",
            "Instructions for updating:\n",
            "If using Keras pass *_constraint arguments to layers.\n",
            "Downloading data from https://github.com/keras-team/keras-applications/releases/download/resnet/resnet50_weights_tf_dim_ordering_tf_kernels_notop.h5\n",
            "94773248/94765736 [==============================] - 2s 0us/step\n"
          ],
          "name": "stdout"
        }
      ]
    },
    {
      "cell_type": "code",
      "metadata": {
        "id": "qQW-vEh43NZE",
        "colab": {
          "base_uri": "https://localhost:8080/"
        },
        "outputId": "e35a3d74-6b14-48ba-ba26-0c01fdcd6d81"
      },
      "source": [
        "(X_train , y_train) , (X_test, y_test) = cifar10.load_data()"
      ],
      "execution_count": null,
      "outputs": [
        {
          "output_type": "stream",
          "text": [
            "Downloading data from https://www.cs.toronto.edu/~kriz/cifar-10-python.tar.gz\n",
            "170500096/170498071 [==============================] - 2s 0us/step\n"
          ],
          "name": "stdout"
        }
      ]
    },
    {
      "cell_type": "code",
      "metadata": {
        "id": "0AuJwMKg9HFe"
      },
      "source": [
        "X_train = X_train / 255.0\n",
        "X_test = X_test / 255.0"
      ],
      "execution_count": null,
      "outputs": []
    },
    {
      "cell_type": "code",
      "metadata": {
        "id": "mu4Y8U7B4Fl6"
      },
      "source": [
        "y_train = np_utils.to_categorical(y_train, 10)\n",
        "y_test = np_utils.to_categorical(y_test, 10)"
      ],
      "execution_count": null,
      "outputs": []
    },
    {
      "cell_type": "code",
      "metadata": {
        "id": "ijLnhXVIBw7w"
      },
      "source": [
        "model = models.Sequential()\n",
        "\n",
        "# Encoder Layer\n",
        "model.add(layers.Conv2D(16, (3, 3), activation='relu', padding='same'))\n",
        "model.add(layers.MaxPooling2D((2, 2), padding='same') )\n",
        "\n",
        "# Decoder Layer\n",
        "model.add(layers.Conv2D(16, (3, 3), activation='relu', padding='same'))\n",
        "model.add(layers.UpSampling2D((2, 2)) )\n",
        "\n",
        "model.add(layers.Conv2D(1, (3, 3), activation='sigmoid', padding='same') )"
      ],
      "execution_count": null,
      "outputs": []
    },
    {
      "cell_type": "code",
      "metadata": {
        "id": "f13-uJPv4di_"
      },
      "source": [
        "model.compile(optimizer='adadelta', loss='binary_crossentropy')"
      ],
      "execution_count": null,
      "outputs": []
    },
    {
      "cell_type": "code",
      "metadata": {
        "id": "bXJ_I3bSDkK8",
        "colab": {
          "base_uri": "https://localhost:8080/"
        },
        "outputId": "4ee99e70-006b-436d-defa-a05820e3bc2c"
      },
      "source": [
        "# Feature Extraction\n",
        "model.fit(X_train, X_train,\n",
        "                epochs=50,\n",
        "                batch_size=128,\n",
        "                shuffle=True,\n",
        "                validation_data=(X_test, X_test))"
      ],
      "execution_count": null,
      "outputs": [
        {
          "output_type": "stream",
          "text": [
            "WARNING:tensorflow:From /tensorflow-1.15.2/python3.7/tensorflow_core/python/ops/nn_impl.py:183: where (from tensorflow.python.ops.array_ops) is deprecated and will be removed in a future version.\n",
            "Instructions for updating:\n",
            "Use tf.where in 2.0, which has the same broadcast rule as np.where\n",
            "Train on 50000 samples, validate on 10000 samples\n",
            "Epoch 1/50\n",
            "50000/50000 [==============================] - 12s 249us/sample - loss: 0.6879 - val_loss: 0.6866\n",
            "Epoch 2/50\n",
            "50000/50000 [==============================] - 5s 96us/sample - loss: 0.6866 - val_loss: 0.6854\n",
            "Epoch 3/50\n",
            "50000/50000 [==============================] - 5s 101us/sample - loss: 0.6854 - val_loss: 0.6842\n",
            "Epoch 4/50\n",
            "50000/50000 [==============================] - 5s 99us/sample - loss: 0.6842 - val_loss: 0.6830\n",
            "Epoch 5/50\n",
            "50000/50000 [==============================] - 5s 101us/sample - loss: 0.6829 - val_loss: 0.6816\n",
            "Epoch 6/50\n",
            "50000/50000 [==============================] - 5s 104us/sample - loss: 0.6812 - val_loss: 0.6798\n",
            "Epoch 7/50\n",
            "50000/50000 [==============================] - 5s 100us/sample - loss: 0.6797 - val_loss: 0.6786\n",
            "Epoch 8/50\n",
            "50000/50000 [==============================] - 5s 104us/sample - loss: 0.6784 - val_loss: 0.6774\n",
            "Epoch 9/50\n",
            "50000/50000 [==============================] - 5s 107us/sample - loss: 0.6772 - val_loss: 0.6762\n",
            "Epoch 10/50\n",
            "50000/50000 [==============================] - 5s 105us/sample - loss: 0.6760 - val_loss: 0.6749\n",
            "Epoch 11/50\n",
            "50000/50000 [==============================] - 5s 100us/sample - loss: 0.6747 - val_loss: 0.6737\n",
            "Epoch 12/50\n",
            "50000/50000 [==============================] - 5s 101us/sample - loss: 0.6734 - val_loss: 0.6724\n",
            "Epoch 13/50\n",
            "50000/50000 [==============================] - 5s 101us/sample - loss: 0.6721 - val_loss: 0.6710\n",
            "Epoch 14/50\n",
            "50000/50000 [==============================] - 5s 100us/sample - loss: 0.6707 - val_loss: 0.6697\n",
            "Epoch 15/50\n",
            "50000/50000 [==============================] - 5s 102us/sample - loss: 0.6693 - val_loss: 0.6683\n",
            "Epoch 16/50\n",
            "50000/50000 [==============================] - 5s 101us/sample - loss: 0.6679 - val_loss: 0.6668\n",
            "Epoch 17/50\n",
            "50000/50000 [==============================] - 5s 103us/sample - loss: 0.6664 - val_loss: 0.6653\n",
            "Epoch 18/50\n",
            "50000/50000 [==============================] - 5s 103us/sample - loss: 0.6647 - val_loss: 0.6636\n",
            "Epoch 19/50\n",
            "50000/50000 [==============================] - 5s 103us/sample - loss: 0.6629 - val_loss: 0.6617\n",
            "Epoch 20/50\n",
            "50000/50000 [==============================] - 5s 106us/sample - loss: 0.6609 - val_loss: 0.6594\n",
            "Epoch 21/50\n",
            "50000/50000 [==============================] - 5s 108us/sample - loss: 0.6584 - val_loss: 0.6570\n",
            "Epoch 22/50\n",
            "50000/50000 [==============================] - 5s 106us/sample - loss: 0.6561 - val_loss: 0.6548\n",
            "Epoch 23/50\n",
            "50000/50000 [==============================] - 5s 106us/sample - loss: 0.6540 - val_loss: 0.6527\n",
            "Epoch 24/50\n",
            "50000/50000 [==============================] - 5s 104us/sample - loss: 0.6518 - val_loss: 0.6505\n",
            "Epoch 25/50\n",
            "50000/50000 [==============================] - 5s 102us/sample - loss: 0.6496 - val_loss: 0.6483\n",
            "Epoch 26/50\n",
            "50000/50000 [==============================] - 5s 99us/sample - loss: 0.6473 - val_loss: 0.6459\n",
            "Epoch 27/50\n",
            "50000/50000 [==============================] - 5s 98us/sample - loss: 0.6448 - val_loss: 0.6435\n",
            "Epoch 28/50\n",
            "50000/50000 [==============================] - 5s 100us/sample - loss: 0.6424 - val_loss: 0.6410\n",
            "Epoch 29/50\n",
            "50000/50000 [==============================] - 5s 102us/sample - loss: 0.6398 - val_loss: 0.6384\n",
            "Epoch 30/50\n",
            "50000/50000 [==============================] - 5s 101us/sample - loss: 0.6371 - val_loss: 0.6357\n",
            "Epoch 31/50\n",
            "50000/50000 [==============================] - 5s 100us/sample - loss: 0.6344 - val_loss: 0.6331\n",
            "Epoch 32/50\n",
            "50000/50000 [==============================] - 5s 98us/sample - loss: 0.6317 - val_loss: 0.6303\n",
            "Epoch 33/50\n",
            "50000/50000 [==============================] - 5s 98us/sample - loss: 0.6289 - val_loss: 0.6276\n",
            "Epoch 34/50\n",
            "50000/50000 [==============================] - 5s 101us/sample - loss: 0.6262 - val_loss: 0.6248\n",
            "Epoch 35/50\n",
            "50000/50000 [==============================] - 5s 99us/sample - loss: 0.6234 - val_loss: 0.6221\n",
            "Epoch 36/50\n",
            "50000/50000 [==============================] - 5s 98us/sample - loss: 0.6207 - val_loss: 0.6195\n",
            "Epoch 37/50\n",
            "50000/50000 [==============================] - 5s 99us/sample - loss: 0.6180 - val_loss: 0.6168\n",
            "Epoch 38/50\n",
            "50000/50000 [==============================] - 5s 101us/sample - loss: 0.6154 - val_loss: 0.6143\n",
            "Epoch 39/50\n",
            "50000/50000 [==============================] - 5s 101us/sample - loss: 0.6128 - val_loss: 0.6118\n",
            "Epoch 40/50\n",
            "50000/50000 [==============================] - 5s 101us/sample - loss: 0.6104 - val_loss: 0.6094\n",
            "Epoch 41/50\n",
            "50000/50000 [==============================] - 5s 102us/sample - loss: 0.6080 - val_loss: 0.6072\n",
            "Epoch 42/50\n",
            "50000/50000 [==============================] - 5s 102us/sample - loss: 0.6058 - val_loss: 0.6050\n",
            "Epoch 43/50\n",
            "50000/50000 [==============================] - 5s 103us/sample - loss: 0.6036 - val_loss: 0.6029\n",
            "Epoch 44/50\n",
            "50000/50000 [==============================] - 5s 103us/sample - loss: 0.6016 - val_loss: 0.6011\n",
            "Epoch 45/50\n",
            "50000/50000 [==============================] - 5s 102us/sample - loss: 0.5998 - val_loss: 0.5993\n",
            "Epoch 46/50\n",
            "50000/50000 [==============================] - 5s 98us/sample - loss: 0.5981 - val_loss: 0.5978\n",
            "Epoch 47/50\n",
            "50000/50000 [==============================] - 5s 100us/sample - loss: 0.5966 - val_loss: 0.5963\n",
            "Epoch 48/50\n",
            "50000/50000 [==============================] - 5s 99us/sample - loss: 0.5952 - val_loss: 0.5951\n",
            "Epoch 49/50\n",
            "50000/50000 [==============================] - 5s 98us/sample - loss: 0.5940 - val_loss: 0.5940\n",
            "Epoch 50/50\n",
            "50000/50000 [==============================] - 5s 100us/sample - loss: 0.5930 - val_loss: 0.5930\n"
          ],
          "name": "stdout"
        },
        {
          "output_type": "execute_result",
          "data": {
            "text/plain": [
              "<tensorflow.python.keras.callbacks.History at 0x7f004c14cc90>"
            ]
          },
          "metadata": {
            "tags": []
          },
          "execution_count": 0
        }
      ]
    },
    {
      "cell_type": "code",
      "metadata": {
        "id": "gNWaAQY-4rTN"
      },
      "source": [
        "model = models.Sequential()\n",
        "\n",
        "#upsampling to increase image....\n",
        "model.add(layers.UpSampling2D((2,2)))\n",
        "model.add(layers.UpSampling2D((2,2)))\n",
        "model.add(layers.UpSampling2D((2,2)))\n",
        "\n",
        "model.add(ResNet50)\n",
        "\n",
        "model.add(layers.Flatten())\n",
        "model.add(layers.BatchNormalization())\n",
        "model.add(layers.Dense(128, activation='relu'))\n",
        "model.add(layers.Dropout(0.5))\n",
        "model.add(layers.BatchNormalization())\n",
        "model.add(layers.Dense(64, activation='relu'))\n",
        "model.add(layers.Dropout(0.5))\n",
        "model.add(layers.BatchNormalization())\n",
        "model.add(layers.Dense(10, activation='softmax'))"
      ],
      "execution_count": null,
      "outputs": []
    },
    {
      "cell_type": "code",
      "metadata": {
        "id": "1w-BB7SY4R8X"
      },
      "source": [
        "model.compile(optimizer=optimizers.RMSprop(lr=2e-5), loss='categorical_crossentropy', metrics=['acc'])"
      ],
      "execution_count": null,
      "outputs": []
    },
    {
      "cell_type": "markdown",
      "metadata": {
        "id": "ItmHILgq9syL"
      },
      "source": [
        "**Preparing model with the help of resnet 50 pretrained model with imagenet**"
      ]
    },
    {
      "cell_type": "code",
      "metadata": {
        "id": "UFAjLM2Q7GF3"
      },
      "source": [
        "from keras.preprocessing.image import ImageDataGenerator\n",
        "datagen = ImageDataGenerator(horizontal_flip = True)"
      ],
      "execution_count": null,
      "outputs": []
    },
    {
      "cell_type": "code",
      "metadata": {
        "id": "PwjdQrWy7Ebu",
        "colab": {
          "base_uri": "https://localhost:8080/"
        },
        "outputId": "c05607fc-32ff-4b01-918c-379a13048adc"
      },
      "source": [
        "history = model.fit_generator(datagen.flow(X_train, y_train,batch_size = 20), epochs=15, validation_data=(X_test, y_test), steps_per_epoch = len(X_train) // 20)"
      ],
      "execution_count": null,
      "outputs": [
        {
          "output_type": "stream",
          "text": [
            "Epoch 1/15\n",
            "2499/2500 [============================>.] - ETA: 0s - loss: 1.6950 - acc: 0.3228Epoch 1/15\n",
            "10000/2500 [========================================================================================================================] - 44s 4ms/sample - loss: 0.7470 - acc: 0.8061\n",
            "2500/2500 [==============================] - 886s 355ms/step - loss: 1.6949 - acc: 0.3229 - val_loss: 0.7634 - val_acc: 0.8061\n",
            "Epoch 2/15\n",
            "2499/2500 [============================>.] - ETA: 0s - loss: 1.0532 - acc: 0.6553Epoch 1/15\n",
            "10000/2500 [========================================================================================================================] - 43s 4ms/sample - loss: 0.4660 - acc: 0.8890\n",
            "2500/2500 [==============================] - 866s 346ms/step - loss: 1.0534 - acc: 0.6553 - val_loss: 0.4682 - val_acc: 0.8890\n",
            "Epoch 3/15\n",
            "2499/2500 [============================>.] - ETA: 0s - loss: 0.7842 - acc: 0.7788Epoch 1/15\n",
            "10000/2500 [========================================================================================================================] - 44s 4ms/sample - loss: 0.3850 - acc: 0.9146\n",
            "2500/2500 [==============================] - 866s 346ms/step - loss: 0.7841 - acc: 0.7788 - val_loss: 0.3602 - val_acc: 0.9146\n",
            "Epoch 4/15\n",
            "2499/2500 [============================>.] - ETA: 0s - loss: 0.6227 - acc: 0.8385Epoch 1/15\n",
            "10000/2500 [========================================================================================================================] - 43s 4ms/sample - loss: 0.2377 - acc: 0.9340\n",
            "2500/2500 [==============================] - 863s 345ms/step - loss: 0.6229 - acc: 0.8385 - val_loss: 0.2648 - val_acc: 0.9340\n",
            "Epoch 5/15\n",
            "2499/2500 [============================>.] - ETA: 0s - loss: 0.5063 - acc: 0.8728Epoch 1/15\n",
            "10000/2500 [========================================================================================================================] - 43s 4ms/sample - loss: 0.1686 - acc: 0.9398\n",
            "2500/2500 [==============================] - 861s 344ms/step - loss: 0.5063 - acc: 0.8728 - val_loss: 0.2308 - val_acc: 0.9398\n",
            "Epoch 6/15\n",
            "2499/2500 [============================>.] - ETA: 0s - loss: 0.4176 - acc: 0.9018Epoch 1/15\n",
            "10000/2500 [========================================================================================================================] - 43s 4ms/sample - loss: 0.2503 - acc: 0.9451\n",
            "2500/2500 [==============================] - 860s 344ms/step - loss: 0.4177 - acc: 0.9018 - val_loss: 0.1980 - val_acc: 0.9451\n",
            "Epoch 7/15\n",
            "2499/2500 [============================>.] - ETA: 0s - loss: 0.3537 - acc: 0.9202Epoch 1/15\n",
            "10000/2500 [========================================================================================================================] - 43s 4ms/sample - loss: 0.1481 - acc: 0.9468\n",
            "2500/2500 [==============================] - 861s 344ms/step - loss: 0.3537 - acc: 0.9202 - val_loss: 0.1907 - val_acc: 0.9468\n",
            "Epoch 8/15\n",
            "2499/2500 [============================>.] - ETA: 0s - loss: 0.3038 - acc: 0.9335Epoch 1/15\n",
            "10000/2500 [========================================================================================================================] - 43s 4ms/sample - loss: 0.1613 - acc: 0.9478\n",
            "2500/2500 [==============================] - 866s 347ms/step - loss: 0.3038 - acc: 0.9335 - val_loss: 0.1881 - val_acc: 0.9478\n",
            "Epoch 9/15\n",
            "2499/2500 [============================>.] - ETA: 0s - loss: 0.2619 - acc: 0.9430Epoch 1/15\n",
            "10000/2500 [========================================================================================================================] - 44s 4ms/sample - loss: 0.1278 - acc: 0.9501\n",
            "2500/2500 [==============================] - 867s 347ms/step - loss: 0.2619 - acc: 0.9430 - val_loss: 0.1777 - val_acc: 0.9501\n",
            "Epoch 10/15\n",
            "2499/2500 [============================>.] - ETA: 0s - loss: 0.2286 - acc: 0.9504Epoch 1/15\n",
            "10000/2500 [========================================================================================================================] - 43s 4ms/sample - loss: 0.1331 - acc: 0.9551\n",
            "2500/2500 [==============================] - 864s 346ms/step - loss: 0.2286 - acc: 0.9504 - val_loss: 0.1718 - val_acc: 0.9551\n",
            "Epoch 11/15\n",
            "2499/2500 [============================>.] - ETA: 0s - loss: 0.1965 - acc: 0.9585Epoch 1/15\n",
            "10000/2500 [========================================================================================================================] - 43s 4ms/sample - loss: 0.1148 - acc: 0.9560\n",
            "2500/2500 [==============================] - 864s 346ms/step - loss: 0.1965 - acc: 0.9585 - val_loss: 0.1672 - val_acc: 0.9560\n",
            "Epoch 12/15\n",
            "2499/2500 [============================>.] - ETA: 0s - loss: 0.1811 - acc: 0.9629Epoch 1/15\n",
            "10000/2500 [========================================================================================================================] - 43s 4ms/sample - loss: 0.1102 - acc: 0.9540\n",
            "2500/2500 [==============================] - 865s 346ms/step - loss: 0.1811 - acc: 0.9629 - val_loss: 0.1780 - val_acc: 0.9540\n",
            "Epoch 13/15\n",
            "2499/2500 [============================>.] - ETA: 0s - loss: 0.1583 - acc: 0.9674Epoch 1/15\n",
            "10000/2500 [========================================================================================================================] - 43s 4ms/sample - loss: 0.1005 - acc: 0.9547\n",
            "2500/2500 [==============================] - 864s 345ms/step - loss: 0.1583 - acc: 0.9674 - val_loss: 0.1721 - val_acc: 0.9547\n",
            "Epoch 14/15\n",
            "2499/2500 [============================>.] - ETA: 0s - loss: 0.1496 - acc: 0.9666Epoch 1/15\n",
            "10000/2500 [========================================================================================================================] - 43s 4ms/sample - loss: 0.1110 - acc: 0.9537\n",
            "2500/2500 [==============================] - 864s 346ms/step - loss: 0.1497 - acc: 0.9666 - val_loss: 0.1873 - val_acc: 0.9537\n",
            "Epoch 15/15\n",
            "2499/2500 [============================>.] - ETA: 0s - loss: 0.1349 - acc: 0.9735Epoch 1/15\n",
            "10000/2500 [========================================================================================================================] - 43s 4ms/sample - loss: 0.1463 - acc: 0.9511\n",
            "2500/2500 [==============================] - 865s 346ms/step - loss: 0.1348 - acc: 0.9735 - val_loss: 0.1946 - val_acc: 0.9511\n"
          ],
          "name": "stdout"
        }
      ]
    },
    {
      "cell_type": "code",
      "metadata": {
        "id": "JvgX-gIHTZKo",
        "colab": {
          "base_uri": "https://localhost:8080/",
          "height": 312
        },
        "outputId": "f530ec9b-e164-44d2-bd82-47d5e90d400d"
      },
      "source": [
        "import keras\n",
        "from matplotlib import pyplot as plt\n",
        "\n",
        "plt.plot(history.history['acc'])\n",
        "plt.plot(history.history['val_acc'])\n",
        "plt.title('model accuracy')\n",
        "plt.ylabel('accuracy')\n",
        "plt.xlabel('epoch')\n",
        "plt.legend(['train', 'val'], loc='upper left')\n",
        "plt.show()\n",
        "plt.savefig(\"performance_cifar10.png\")"
      ],
      "execution_count": null,
      "outputs": [
        {
          "output_type": "display_data",
          "data": {
            "image/png": "[encoded data removed]",
            "text/plain": [
              "<Figure size 432x288 with 1 Axes>"
            ]
          },
          "metadata": {
            "tags": [],
            "needs_background": "light"
          }
        },
        {
          "output_type": "display_data",
          "data": {
            "text/plain": [
              "<Figure size 432x288 with 0 Axes>"
            ]
          },
          "metadata": {
            "tags": []
          }
        }
      ]
    },
    {
      "cell_type": "code",
      "metadata": {
        "colab": {
          "base_uri": "https://localhost:8080/"
        },
        "id": "4mlFwIGvnpOJ",
        "outputId": "6fb1d1cf-26b6-4589-e685-dc68df87c18e"
      },
      "source": [
        "model.summary()"
      ],
      "execution_count": null,
      "outputs": [
        {
          "output_type": "stream",
          "text": [
            "Model: \"sequential_1\"\n",
            "_________________________________________________________________\n",
            "Layer (type)                 Output Shape              Param #   \n",
            "=================================================================\n",
            "up_sampling2d_1 (UpSampling2 multiple                  0         \n",
            "_________________________________________________________________\n",
            "up_sampling2d_2 (UpSampling2 multiple                  0         \n",
            "_________________________________________________________________\n",
            "up_sampling2d_3 (UpSampling2 multiple                  0         \n",
            "_________________________________________________________________\n",
            "resnet50 (Model)             (None, 7, 7, 2048)        23587712  \n",
            "_________________________________________________________________\n",
            "flatten (Flatten)            multiple                  0         \n",
            "_________________________________________________________________\n",
            "batch_normalization (BatchNo multiple                  524288    \n",
            "_________________________________________________________________\n",
            "dense (Dense)                multiple                  16777344  \n",
            "_________________________________________________________________\n",
            "dropout (Dropout)            multiple                  0         \n",
            "_________________________________________________________________\n",
            "batch_normalization_1 (Batch multiple                  512       \n",
            "_________________________________________________________________\n",
            "dense_1 (Dense)              multiple                  8256      \n",
            "_________________________________________________________________\n",
            "dropout_1 (Dropout)          multiple                  0         \n",
            "_________________________________________________________________\n",
            "batch_normalization_2 (Batch multiple                  256       \n",
            "_________________________________________________________________\n",
            "dense_2 (Dense)              multiple                  650       \n",
            "=================================================================\n",
            "Total params: 40,899,018\n",
            "Trainable params: 40,583,370\n",
            "Non-trainable params: 315,648\n",
            "_________________________________________________________________\n"
          ],
          "name": "stdout"
        }
      ]
    }
  ]
}
