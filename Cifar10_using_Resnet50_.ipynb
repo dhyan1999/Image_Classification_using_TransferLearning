{
  "nbformat": 4,
  "nbformat_minor": 0,
  "metadata": {
    "kernelspec": {
      "display_name": "Python 3",
      "language": "python",
      "name": "python3"
    },
    "language_info": {
      "codemirror_mode": {
        "name": "ipython",
        "version": 3
      },
      "file_extension": ".py",
      "mimetype": "text/x-python",
      "name": "python",
      "nbconvert_exporter": "python",
      "pygments_lexer": "ipython3",
      "version": "3.6.5"
    },
    "colab": {
      "name": "Cifar10 using Resnet50 .ipynb",
      "provenance": [],
      "collapsed_sections": [],
      "include_colab_link": true
    },
    "accelerator": "GPU"
  },
  "cells": [
    {
      "cell_type": "markdown",
      "metadata": {
        "id": "view-in-github",
        "colab_type": "text"
      },
      "source": [
        "<a href=\"https://colab.research.google.com/github/dhyan1999/DL_ML/blob/master/Cifar10_using_Resnet50_.ipynb\" target=\"_parent\"><img src=\"https://colab.research.google.com/assets/colab-badge.svg\" alt=\"Open In Colab\"/></a>"
      ]
    },
    {
      "cell_type": "code",
      "metadata": {
        "id": "CAN5E4VwVq72"
      },
      "source": [
        "from tensorflow.keras.applications.resnet50 import ResNet50, preprocess_input\n",
        "import tensorflow.keras as keras\n",
        "from tensorflow.keras import models,layers,optimizers,datasets\n",
        "import numpy as np\n",
        "from tensorflow import keras\n",
        "import matplotlib.pyplot as plt\n",
        "import tensorflow as tf\n",
        "from keras.utils import np_utils\n",
        "from keras.models import load_model\n",
        "from keras.preprocessing import image"
      ],
      "execution_count": null,
      "outputs": []
    },
    {
      "cell_type": "code",
      "metadata": {
        "id": "wG9ZCdC-Vq74"
      },
      "source": [
        "ResNet50 = ResNet50(weights='imagenet', include_top=False, input_shape=(256, 256, 3))"
      ],
      "execution_count": null,
      "outputs": []
    },
    {
      "cell_type": "code",
      "metadata": {
        "id": "E5h0opWoVq76"
      },
      "source": [
        "(X_train, y_train), (X_test, y_test) = datasets.cifar10.load_data()"
      ],
      "execution_count": null,
      "outputs": []
    },
    {
      "cell_type": "code",
      "metadata": {
        "id": "RpIPf9v7lGUR"
      },
      "source": [
        "X_train = X_train / 255.0\n",
        "X_test = X_test / 255.0"
      ],
      "execution_count": null,
      "outputs": []
    },
    {
      "cell_type": "code",
      "metadata": {
        "id": "9pQwN7w_lGR7"
      },
      "source": [
        "y_train = np_utils.to_categorical(y_train, 10)\n",
        "y_test = np_utils.to_categorical(y_test, 10)"
      ],
      "execution_count": null,
      "outputs": []
    },
    {
      "cell_type": "code",
      "metadata": {
        "colab": {
          "base_uri": "https://localhost:8080/"
        },
        "id": "H3dFjIZblGPW",
        "outputId": "ee990d0f-fa00-4d3c-9bab-41d1ca85ff88"
      },
      "source": [
        "X_train.shape"
      ],
      "execution_count": null,
      "outputs": [
        {
          "output_type": "execute_result",
          "data": {
            "text/plain": [
              "(50000, 32, 32, 3)"
            ]
          },
          "metadata": {
            "tags": []
          },
          "execution_count": 61
        }
      ]
    },
    {
      "cell_type": "code",
      "metadata": {
        "colab": {
          "base_uri": "https://localhost:8080/"
        },
        "id": "i1pPSGKElGMa",
        "outputId": "7678b2ae-2621-4ccf-95fe-2d561a62a10b"
      },
      "source": [
        "X_test.shape"
      ],
      "execution_count": null,
      "outputs": [
        {
          "output_type": "execute_result",
          "data": {
            "text/plain": [
              "(10000, 32, 32, 3)"
            ]
          },
          "metadata": {
            "tags": []
          },
          "execution_count": 62
        }
      ]
    },
    {
      "cell_type": "code",
      "metadata": {
        "colab": {
          "base_uri": "https://localhost:8080/"
        },
        "id": "qV-60hD9lZFB",
        "outputId": "3ff08c0a-276e-4045-c8e7-7f9f6c990dc0"
      },
      "source": [
        "y_train.shape"
      ],
      "execution_count": null,
      "outputs": [
        {
          "output_type": "execute_result",
          "data": {
            "text/plain": [
              "(50000, 10)"
            ]
          },
          "metadata": {
            "tags": []
          },
          "execution_count": 63
        }
      ]
    },
    {
      "cell_type": "code",
      "metadata": {
        "colab": {
          "base_uri": "https://localhost:8080/"
        },
        "id": "D7YGfgl2lb3d",
        "outputId": "7d0b8fb6-1dbe-498c-fbf7-c5bb9b02d35d"
      },
      "source": [
        "y_test.shape"
      ],
      "execution_count": null,
      "outputs": [
        {
          "output_type": "execute_result",
          "data": {
            "text/plain": [
              "(10000, 10)"
            ]
          },
          "metadata": {
            "tags": []
          },
          "execution_count": 64
        }
      ]
    },
    {
      "cell_type": "code",
      "metadata": {
        "id": "zTk5cUW5Vq77"
      },
      "source": [
        "model = models.Sequential()\n",
        "model.add(layers.UpSampling2D((2,2)))\n",
        "model.add(layers.UpSampling2D((2,2)))\n",
        "model.add(layers.UpSampling2D((2,2)))\n",
        "model.add(ResNet50)\n",
        "model.add(layers.Flatten())\n",
        "model.add(layers.BatchNormalization())\n",
        "model.add(layers.Dense(128, activation='relu'))\n",
        "model.add(layers.Dropout(0.5))\n",
        "model.add(layers.BatchNormalization())\n",
        "model.add(layers.Dense(64, activation='relu'))\n",
        "model.add(layers.Dropout(0.5))\n",
        "model.add(layers.BatchNormalization())\n",
        "model.add(layers.Dense(10, activation='softmax'))"
      ],
      "execution_count": null,
      "outputs": []
    },
    {
      "cell_type": "code",
      "metadata": {
        "id": "kw7X9xzknT4P"
      },
      "source": [
        "model.compile(optimizer=optimizers.RMSprop(lr=2e-5), loss='binary_crossentropy', metrics=['acc'])"
      ],
      "execution_count": null,
      "outputs": []
    },
    {
      "cell_type": "code",
      "metadata": {
        "colab": {
          "base_uri": "https://localhost:8080/"
        },
        "id": "4f9mlSuznT08",
        "outputId": "5106f0a4-4655-4d6b-ef3b-6af6c9c9647c"
      },
      "source": [
        "history = model.fit(X_train, y_train, epochs=5, batch_size=20, validation_data=(X_test, y_test))"
      ],
      "execution_count": null,
      "outputs": [
        {
          "output_type": "stream",
          "text": [
            "Epoch 1/5\n",
            "2500/2500 [==============================] - 397s 155ms/step - loss: 0.7722 - acc: 0.2767 - val_loss: 0.5066 - val_acc: 0.7707\n",
            "Epoch 2/5\n",
            "2500/2500 [==============================] - 386s 154ms/step - loss: 0.5969 - acc: 0.5726 - val_loss: 0.3936 - val_acc: 0.8576\n",
            "Epoch 3/5\n",
            "2500/2500 [==============================] - 386s 155ms/step - loss: 0.4674 - acc: 0.7076 - val_loss: 0.2746 - val_acc: 0.9025\n",
            "Epoch 4/5\n",
            "2500/2500 [==============================] - 386s 154ms/step - loss: 0.3448 - acc: 0.7874 - val_loss: 0.1772 - val_acc: 0.9201\n",
            "Epoch 5/5\n",
            "2500/2500 [==============================] - 386s 154ms/step - loss: 0.2410 - acc: 0.8369 - val_loss: 0.1136 - val_acc: 0.9301\n"
          ],
          "name": "stdout"
        }
      ]
    },
    {
      "cell_type": "code",
      "metadata": {
        "colab": {
          "base_uri": "https://localhost:8080/"
        },
        "id": "3XhTrkPTn1fN",
        "outputId": "704b87a0-0330-41dc-a3f2-9daf7d9396c1"
      },
      "source": [
        "model.summary()"
      ],
      "execution_count": null,
      "outputs": [
        {
          "output_type": "stream",
          "text": [
            "Model: \"sequential_4\"\n",
            "_________________________________________________________________\n",
            "Layer (type)                 Output Shape              Param #   \n",
            "=================================================================\n",
            "up_sampling2d_12 (UpSampling (20, 64, 64, 3)           0         \n",
            "_________________________________________________________________\n",
            "up_sampling2d_13 (UpSampling (20, 128, 128, 3)         0         \n",
            "_________________________________________________________________\n",
            "up_sampling2d_14 (UpSampling (20, 256, 256, 3)         0         \n",
            "_________________________________________________________________\n",
            "resnet50 (Functional)        (None, 8, 8, 2048)        23587712  \n",
            "_________________________________________________________________\n",
            "flatten_4 (Flatten)          (20, 131072)              0         \n",
            "_________________________________________________________________\n",
            "batch_normalization_12 (Batc (20, 131072)              524288    \n",
            "_________________________________________________________________\n",
            "dense_12 (Dense)             (20, 128)                 16777344  \n",
            "_________________________________________________________________\n",
            "dropout_8 (Dropout)          (20, 128)                 0         \n",
            "_________________________________________________________________\n",
            "batch_normalization_13 (Batc (20, 128)                 512       \n",
            "_________________________________________________________________\n",
            "dense_13 (Dense)             (20, 64)                  8256      \n",
            "_________________________________________________________________\n",
            "dropout_9 (Dropout)          (20, 64)                  0         \n",
            "_________________________________________________________________\n",
            "batch_normalization_14 (Batc (20, 64)                  256       \n",
            "_________________________________________________________________\n",
            "dense_14 (Dense)             (20, 10)                  650       \n",
            "=================================================================\n",
            "Total params: 40,899,018\n",
            "Trainable params: 40,583,370\n",
            "Non-trainable params: 315,648\n",
            "_________________________________________________________________\n"
          ],
          "name": "stdout"
        }
      ]
    },
    {
      "cell_type": "code",
      "metadata": {
        "id": "gfqcEi3vjm6h",
        "colab": {
          "base_uri": "https://localhost:8080/",
          "height": 885
        },
        "outputId": "5dcc3581-ff1d-4f83-cc7e-f41ba9e4dcaa"
      },
      "source": [
        "plt.figure(figsize=(20,10))\n",
        "plt.plot(history.history['acc'], label='Training Acc')\n",
        "plt.plot(history.history['val_acc'],label='Testing Acc')\n",
        "plt.xlabel('Epoch')\n",
        "plt.ylabel('Accuracy')\n",
        "plt.ylim([0.5,1])\n",
        "plt.legend(loc='lower_right')\n",
        "\n",
        "test_loss, test_acc = model.evaluate(X_test, y_test)"
      ],
      "execution_count": null,
      "outputs": [
        {
          "output_type": "stream",
          "text": [
            "/usr/local/lib/python3.7/dist-packages/ipykernel_launcher.py:7: MatplotlibDeprecationWarning: Unrecognized location 'lower_right'. Falling back on 'best'; valid locations are\n",
            "\tbest\n",
            "\tupper right\n",
            "\tupper left\n",
            "\tlower left\n",
            "\tlower right\n",
            "\tright\n",
            "\tcenter left\n",
            "\tcenter right\n",
            "\tlower center\n",
            "\tupper center\n",
            "\tcenter\n",
            "This will raise an exception in 3.3.\n",
            "  import sys\n"
          ],
          "name": "stderr"
        },
        {
          "output_type": "stream",
          "text": [
            "313/313 [==============================] - 24s 70ms/step - loss: 0.1136 - acc: 0.9301\n"
          ],
          "name": "stdout"
        },
        {
          "output_type": "display_data",
          "data": {
            "image/png": "[encoded data removed]",
            "text/plain": [
              "<Figure size 1440x720 with 1 Axes>"
            ]
          },
          "metadata": {
            "tags": [],
            "needs_background": "light"
          }
        }
      ]
    },
    {
      "cell_type": "code",
      "metadata": {
        "id": "d32dULg0j0yF"
      },
      "source": [
        ""
      ],
      "execution_count": null,
      "outputs": []
    }
  ]
}
